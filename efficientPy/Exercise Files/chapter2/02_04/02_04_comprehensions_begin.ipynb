{
 "cells": [
  {
   "cell_type": "markdown",
   "metadata": {
    "collapsed": true
   },
   "source": [
    "### Python module/package imports for this chapter"
   ]
  },
  {
   "cell_type": "code",
   "execution_count": 1,
   "metadata": {
    "collapsed": true
   },
   "outputs": [],
   "source": [
    "import math, json, collections, itertools"
   ]
  },
  {
   "cell_type": "code",
   "execution_count": 2,
   "metadata": {
    "collapsed": true
   },
   "outputs": [],
   "source": [
    "import numpy as np\n",
    "import matplotlib.pyplot as pp\n",
    "%matplotlib inline"
   ]
  },
  {
   "cell_type": "code",
   "execution_count": 3,
   "metadata": {
    "collapsed": true
   },
   "outputs": [],
   "source": [
    "from mpl_toolkits.basemap import Basemap\n",
    "import geopy"
   ]
  },
  {
   "cell_type": "markdown",
   "metadata": {},
   "source": [
    "**March 2020 update**:\n",
    "\n",
    "* at 02:58 in the video: some versions of Basemap (such as 1.2.1) crash if `lat_0` is greater than 45 degrees. We change the code accordingly. Also, when coordinates end outside the map because a location is not visible, `world` returns `inf`, resulting in a `matplotlib` warning. We check for `inf` to avoid the warnings.  "
   ]
  },
  {
   "cell_type": "markdown",
   "metadata": {},
   "source": [
    "### Code and data needed from previous videos"
   ]
  },
  {
   "cell_type": "markdown",
   "metadata": {},
   "source": [
    "List of olympic cities and years:"
   ]
  },
  {
   "cell_type": "code",
   "execution_count": 4,
   "metadata": {
    "collapsed": true
   },
   "outputs": [],
   "source": [
    "cities = []\n",
    "years = []\n",
    "\n",
    "for game in open('games.txt','r'):\n",
    "    words = game.split()\n",
    "    \n",
    "    city = ' '.join(words[:-1])\n",
    "    year = words[-1].strip('()')\n",
    "\n",
    "    cities.append(city)\n",
    "    years.append(year)"
   ]
  },
  {
   "cell_type": "markdown",
   "metadata": {},
   "source": [
    "Geolocated olympic-city coordinates (from a JSON file):"
   ]
  },
  {
   "cell_type": "code",
   "execution_count": 5,
   "metadata": {},
   "outputs": [
    {
     "data": {
      "text/plain": [
       "{'Amsterdam': [4.89797550561798, 52.3745403],\n",
       " 'Antwerp': [4.3997081, 51.2211097],\n",
       " 'Athens': [-82.1012554, 39.3292396],\n",
       " 'Atlanta': [-84.3901848, 33.7490987],\n",
       " 'Barcelona': [2.1771353, 41.3825596],\n",
       " 'Beijing': [116.391248, 39.9059631],\n",
       " 'Berlin': [13.3888599, 52.5170365],\n",
       " 'Helsinki': [24.9425683, 60.1674086],\n",
       " 'London': [-0.1276473, 51.5073219],\n",
       " 'Los Angeles': [-118.2439408, 34.0543942],\n",
       " 'Melbourne / Stockholm': [144.9631608, -37.8142175],\n",
       " 'Mexico': [-99.1333415, 19.4326009],\n",
       " 'Montreal': [-73.6125179, 45.497684],\n",
       " 'Moscow': [37.6174976, 55.7506828],\n",
       " 'Munich': [11.5753822, 48.1371079],\n",
       " 'Paris': [2.3514992, 48.8566101],\n",
       " 'Rio': [-43.2093726, -22.9110136],\n",
       " 'Rome': [12.6308541512038, 41.85233365],\n",
       " 'Seoul': [126.9782914, 37.5666791],\n",
       " 'St Louis': [-90.1978888, 38.6272733],\n",
       " 'Stockholm': [18.0710935, 59.3251172],\n",
       " 'Sydney': [151.210047, -33.8679573],\n",
       " 'Tokyo': [139.294774527387, 34.2255804]}"
      ]
     },
     "execution_count": 5,
     "metadata": {},
     "output_type": "execute_result"
    }
   ],
   "source": [
    "coordinates_by_city = json.load(open('coords.json','r'))\n",
    "coordinates_by_city"
   ]
  },
  {
   "cell_type": "markdown",
   "metadata": {},
   "source": [
    "## Comprehensions and generators"
   ]
  },
  {
   "cell_type": "code",
   "execution_count": null,
   "metadata": {
    "collapsed": true
   },
   "outputs": [],
   "source": []
  }
 ],
 "metadata": {
  "anaconda-cloud": {},
  "kernelspec": {
   "display_name": "Python 3",
   "language": "python",
   "name": "python3"
  },
  "language_info": {
   "codemirror_mode": {
    "name": "ipython",
    "version": 3
   },
   "file_extension": ".py",
   "mimetype": "text/x-python",
   "name": "python",
   "nbconvert_exporter": "python",
   "pygments_lexer": "ipython3",
   "version": "3.8.2"
  }
 },
 "nbformat": 4,
 "nbformat_minor": 1
}

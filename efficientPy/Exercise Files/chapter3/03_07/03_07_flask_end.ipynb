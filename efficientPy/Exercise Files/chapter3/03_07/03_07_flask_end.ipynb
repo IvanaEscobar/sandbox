{
 "cells": [
  {
   "cell_type": "markdown",
   "metadata": {},
   "source": [
    "### Python module/package imports for this chapter"
   ]
  },
  {
   "cell_type": "code",
   "execution_count": 1,
   "metadata": {},
   "outputs": [],
   "source": [
    "import os, sys, collections, re, json, io, base64"
   ]
  },
  {
   "cell_type": "code",
   "execution_count": 2,
   "metadata": {},
   "outputs": [],
   "source": [
    "import numpy as np\n",
    "\n",
    "import matplotlib\n",
    "import matplotlib.pyplot as pp\n",
    "import matplotlib.animation as anim\n",
    "from mpl_toolkits.basemap import Basemap\n",
    "\n",
    "%matplotlib inline"
   ]
  },
  {
   "cell_type": "code",
   "execution_count": 3,
   "metadata": {},
   "outputs": [],
   "source": [
    "import requests\n",
    "import bs4      # BeautifulSoup 4"
   ]
  },
  {
   "cell_type": "code",
   "execution_count": 4,
   "metadata": {},
   "outputs": [],
   "source": [
    "import IPython.display\n",
    "import PIL, PIL.Image, PIL.ImageOps, PIL.ImageEnhance  # Python Imaging Library - now \"pillow\""
   ]
  },
  {
   "cell_type": "markdown",
   "metadata": {},
   "source": [
    "### Stereograph-making Python module, with code taken from previous videos"
   ]
  },
  {
   "cell_type": "markdown",
   "metadata": {},
   "source": [
    "**March 2020 update**: the `mars.nasa.gov` portal has been restyled, so it now looks different than in the video. Furthermore, the website now uses JavaScript to populate the raw-image query pages dynamically, so that we cannot load those pages and find image URLs. However, the same information is available in JSON files from `api.nasa.gov`, with GET URLs similar to\n",
    "\n",
    "    https://api.nasa.gov/mars-photos/api/v1/rovers/curiosity/photos?sol=1460&camera=FHAZ&api_key=DEMO_KEY\n",
    "\n",
    "The code below is updated accordingly. Instead of `BeautifulSoup`, it uses `json` to parse the response. Note that the `DEMO_KEY` is limited to 30 requests per day. Those will be sufficient for what we do below, but you can generate your own key, with much larger limits, at https://api.nasa.gov.\n",
    "\n",
    "The code will still attempt to use a local cache of json files and images, if available."
   ]
  },
  {
   "cell_type": "code",
   "execution_count": 5,
   "metadata": {},
   "outputs": [
    {
     "name": "stdout",
     "output_type": "stream",
     "text": [
      "Overwriting stereo.py\n"
     ]
    }
   ],
   "source": [
    "%%file stereo.py\n",
    "\n",
    "import os, sys, re, io, base64, json\n",
    "import requests, bs4\n",
    "import PIL, PIL.Image, PIL.ImageOps, PIL.ImageEnhance\n",
    "\n",
    "def getday(day):\n",
    "    \"\"\"Load the webpage collecting Curiosity Front Hazard Cam\n",
    "    images for Sol day, and yield a sequence of URLs for (left,right) pairs.\n",
    "    Before loading, see if the webpage is available in a local cache.\"\"\"\n",
    "    \n",
    "    cached = os.path.join('images', str(day) + '.json')\n",
    "    try:\n",
    "        text = open(cached,'r').read()\n",
    "    except FileNotFoundError:\n",
    "        daypage = requests.get('https://api.nasa.gov/mars-photos/api/v1/rovers/curiosity/photos',\n",
    "                               params={'sol': day, 'camera': 'FHAZ',\n",
    "                                       'api_key': 'CeYgq3YlAUSUXMRoZJxPogOpj4a8bvmJEDv3m6G6'}) #DEMO_KEY'})\n",
    "        text = daypage.text\n",
    "    \n",
    "    # we parse the returned JSON, which has format\n",
    "    # {'photos': [{'id': XXXX, 'img_src': URL, ...},\n",
    "    #             ...]\n",
    "    #  ...}\n",
    "    # to isolate the image URLs\n",
    "    \n",
    "    try:\n",
    "        images = json.loads(text)\n",
    "        srcs = [photo['img_src'] for photo in images['photos']]\n",
    "    except:\n",
    "        srcs = []\n",
    "    \n",
    "    print(\"Found {} images for day {}...\".format(len(srcs),day))\n",
    "\n",
    "    # iterate over nonoverlapping pairs in the list:\n",
    "    # 0,2,4,... and 1,3,5,...\n",
    "    for one, two in zip(srcs[::2],srcs[1::2]):\n",
    "        # we may get the left/right in the wrong order, so check the URLs\n",
    "        left, right = (one, two) if 'FLB' in one else (two, one)\n",
    "        \n",
    "        yield left, right\n",
    "\n",
    "def getimage(url):\n",
    "    \"\"\"Load a Curiosity image from url, resize it and dewarp it.\n",
    "    However, first see if the image is available in a local cache.\"\"\"\n",
    "    \n",
    "    cached = os.path.join('images',os.path.basename(url))\n",
    "    try:\n",
    "        content = open(cached,'rb').read()\n",
    "    except FileNotFoundError:\n",
    "        content = requests.get(url).content\n",
    "    \n",
    "    img = PIL.Image.open(io.BytesIO(content))\n",
    "    \n",
    "    resized = img.resize((400,400))\n",
    "    dewarped = img.transform((400,300),\n",
    "                             PIL.Image.QUAD,data=(0,0,100,400,300,400,400,0),\n",
    "                             resample=0,fill=1)\n",
    "    \n",
    "    return dewarped\n",
    "\n",
    "def blend(left,right):\n",
    "    \"\"\"Colorize and blend left and right Curiosity images.\"\"\"\n",
    "    \n",
    "    blend = PIL.Image.blend(PIL.ImageOps.colorize(left,(0,0,0),(255,0,0)),\n",
    "                            PIL.ImageOps.colorize(right,(0,0,0),(0,255,255)),0.5)\n",
    "    \n",
    "    enhanced = PIL.ImageEnhance.Brightness(blend)\n",
    "    \n",
    "    return enhanced.enhance(1.75)"
   ]
  },
  {
   "cell_type": "markdown",
   "metadata": {},
   "source": [
    "## Making a webserver offering stereoscopic Mars images"
   ]
  },
  {
   "cell_type": "code",
   "execution_count": 6,
   "metadata": {},
   "outputs": [
    {
     "name": "stdout",
     "output_type": "stream",
     "text": [
      "Overwriting server.py\n"
     ]
    }
   ],
   "source": [
    "%%file server.py\n",
    "\n",
    "import flask\n",
    "\n",
    "app = flask.Flask(__name__)\n",
    "\n",
    "@app.route('/')\n",
    "def hello_world():\n",
    "    return flask.Response('<html><body><p>Hello, world!</p></body></html>')\n",
    "\n",
    "app.run(host='0.0.0.0')"
   ]
  },
  {
   "cell_type": "code",
   "execution_count": 7,
   "metadata": {},
   "outputs": [
    {
     "name": "stdout",
     "output_type": "stream",
     "text": [
      "Overwriting server.py\n"
     ]
    }
   ],
   "source": [
    "%%file server.py\n",
    "\n",
    "import flask, jinja2, io, base64\n",
    "\n",
    "app = flask.Flask(__name__)\n",
    "\n",
    "template = jinja2.Template(\"\"\"\n",
    "<html>\n",
    "  <body>\n",
    "    <img src=\"data:image/png;base64,{{imgdata}}\"/>\n",
    "  </body>\n",
    "</html>\n",
    "\"\"\")\n",
    "\n",
    "def makeimgdata(img):\n",
    "    buffer = io.BytesIO()\n",
    "    img.save(buffer,format='PNG')\n",
    "    return base64.b64encode(buffer.getvalue()).decode('ascii')\n",
    "\n",
    "@app.route('/<sol>')\n",
    "def getsol(sol):\n",
    "    html = template(imgdata='')\n",
    "    return flask.Response(html)\n",
    "\n",
    "@app.route('/')\n",
    "def hello_world():\n",
    "    return flask.Response('<html><body><p>Hello, world!</p></body></html>')\n",
    "\n",
    "app.run(host='0.0.0.0')"
   ]
  },
  {
   "cell_type": "markdown",
   "metadata": {},
   "source": [
    "**March 2020 update:** on Windows, connect to `localhost` instead of `0.0.0.0`. If that does not work with the Edge browser, you can try Firefox."
   ]
  },
  {
   "cell_type": "code",
   "execution_count": 8,
   "metadata": {},
   "outputs": [],
   "source": [
    "img = PIL.Image.open('../03_05/images/FLB_517332079EDR_F0541610FHAZ00323M_.jpg')"
   ]
  },
  {
   "cell_type": "code",
   "execution_count": 9,
   "metadata": {},
   "outputs": [],
   "source": [
    "def makeimgdata(img):\n",
    "    buffer = io.BytesIO()\n",
    "    img.save(buffer,format='PNG')\n",
    "    return base64.b64encode(buffer.getvalue()).decode('ascii')"
   ]
  },
  {
   "cell_type": "code",
   "execution_count": 10,
   "metadata": {},
   "outputs": [],
   "source": [
    "b64 = makeimgdata(img)"
   ]
  },
  {
   "cell_type": "code",
   "execution_count": 11,
   "metadata": {},
   "outputs": [
    {
     "data": {
      "text/plain": [
       "730876"
      ]
     },
     "execution_count": 11,
     "metadata": {},
     "output_type": "execute_result"
    }
   ],
   "source": [
    "len(b64)"
   ]
  },
  {
   "cell_type": "code",
   "execution_count": 12,
   "metadata": {},
   "outputs": [
    {
     "data": {
      "text/plain": [
       "'iVBORw0KGgoAAAANSUhEUgAABAAAAAQACAAAAABadnRfAAEAAElEQVR4nLz9XZckW3IcipmZ+47IrOo+Z74AECBAEOQVpaX7olf9/1+iJ90liSRm5nRXZcR2Nz3syOo+Zwa8AC9ws9fqqoqMjIyP7V/m5u789wCMX7y4fvi7v83nG8TPf1v7mYRNNgiuTc+3yednCNDXJwjw4ye+bXz+Z9i2YcCG175Erz3YIqzQjthSoUGBpHAec57FohQRSpIgSRsEbNcsSDmSjHVck5CVApXueR5ntduG7W/3QSKwTgjwOh3rOh/CkGCQAEitK6UkKYK5b/uvfvv//F/XfTQBVKD1cc8rANOWacJsPm8LzbWf+fx0C4BBGJyJVkMtmA1dR0KrZX78cW3B+hUo8Xk8wNb6ShN4ntW3Deb1/K9TWF+l587ruLi2f7cDKnAdwAQMtvDc0uuM19nB+O6bYeJ5J56vFtYtMdf1WN+99+3WfHxnC9e3tSqum24a346JmWtjxXrnOvd1jwyurQ35QwSuva4faK2r8nU3P3acCYMVLQAVa/Vd3/3tyPp4wBXXDcXHPfruZT7XwfOBtM48NWse88vv/1//v9//5LN88K3f3uBpd5VtN7qNrrVm7b4kUYhx23iSfyr+a5c/2U4DS8A/dvk4vUsBXDtdm/50Ry7x5891y8cx1rfy49v83M3PD/DSBOvukyFBESQBgrDPWbYhMCiJzSWo68TsdhlKUbSBJq6PgiKo6qqyLfj6/o9zImnzqREuBcDvdOHSgd9fFnHpH0DB+O3/4x8+iQpQ7u3Yi88DWTo2z9t7ZrEBqh1FMyc1R5vUOWZg7nj0p3lGnPeTk9tJQz3m/nWfQvjkdjqLAqegGXCDYD62dvaxF7z5dERVGDGlImufQGWpzbqd6L0fGToo91al7EOji4i2YyYMNQjaMmyxhNrPGWwals/Xr8x4jIKlgrMs0yUQKDIml9Za0mNAFaVSqdk5BTuqRxne'"
      ]
     },
     "execution_count": 12,
     "metadata": {},
     "output_type": "execute_result"
    }
   ],
   "source": [
    "b64[:1000]"
   ]
  },
  {
   "cell_type": "code",
   "execution_count": 13,
   "metadata": {},
   "outputs": [
    {
     "name": "stdout",
     "output_type": "stream",
     "text": [
      "Overwriting server.py\n"
     ]
    }
   ],
   "source": [
    "%%file server.py\n",
    "\n",
    "import flask, jinja2, io, base64\n",
    "import stereo\n",
    "\n",
    "app = flask.Flask(__name__)\n",
    "\n",
    "template = jinja2.Template(\"\"\"\n",
    "<html>\n",
    "  <body>\n",
    "    <img src=\"data:image/png;base64,{{imgdata}}\"/>\n",
    "  </body>\n",
    "</html>\n",
    "\"\"\")\n",
    "\n",
    "def makeimgdata(img):\n",
    "    buffer = io.BytesIO()\n",
    "    img.save(buffer,format='PNG')\n",
    "    return base64.b64encode(buffer.getvalue()).decode('ascii')\n",
    "\n",
    "@app.route('/<sol>')\n",
    "def getsol(sol):\n",
    "    left, right = stereo.getday(sol).__next__()\n",
    "    img = stereo.blend(stereo.getimage(left),stereo.getimage(right))\n",
    "    \n",
    "    html = template.render(imgdata=makeimgdata(img))\n",
    "    \n",
    "    return flask.Response(html)\n",
    "\n",
    "@app.route('/')\n",
    "def hello_world():\n",
    "    return flask.Response('<html><body><p>Hello, world!</p></body></html>')\n",
    "\n",
    "app.run(host='0.0.0.0')"
   ]
  },
  {
   "cell_type": "code",
   "execution_count": null,
   "metadata": {},
   "outputs": [],
   "source": []
  }
 ],
 "metadata": {
  "anaconda-cloud": {},
  "kernelspec": {
   "display_name": "Python 3",
   "language": "python",
   "name": "python3"
  },
  "language_info": {
   "codemirror_mode": {
    "name": "ipython",
    "version": 3
   },
   "file_extension": ".py",
   "mimetype": "text/x-python",
   "name": "python",
   "nbconvert_exporter": "python",
   "pygments_lexer": "ipython3",
   "version": "3.8.2"
  },
  "toc": {
   "base_numbering": 1,
   "nav_menu": {},
   "number_sections": true,
   "sideBar": true,
   "skip_h1_title": false,
   "title_cell": "Table of Contents",
   "title_sidebar": "Contents",
   "toc_cell": false,
   "toc_position": {},
   "toc_section_display": true,
   "toc_window_display": false
  }
 },
 "nbformat": 4,
 "nbformat_minor": 1
}

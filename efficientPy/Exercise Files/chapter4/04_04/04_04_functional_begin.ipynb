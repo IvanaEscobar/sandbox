{
 "cells": [
  {
   "cell_type": "markdown",
   "metadata": {},
   "source": [
    "### Python module/package imports for this chapter"
   ]
  },
  {
   "cell_type": "code",
   "execution_count": 1,
   "metadata": {
    "collapsed": true
   },
   "outputs": [],
   "source": [
    "import sys, os, math, random, functools\n",
    "\n",
    "import numpy as np\n",
    "\n",
    "import matplotlib\n",
    "import matplotlib.pyplot as pp\n",
    "import matplotlib.animation as anim\n",
    "\n",
    "%matplotlib inline\n",
    "\n",
    "from IPython.display import display, HTML"
   ]
  },
  {
   "cell_type": "markdown",
   "metadata": {
    "collapsed": true
   },
   "source": [
    "### Code from previous videos (enhanced)"
   ]
  },
  {
   "cell_type": "code",
   "execution_count": 2,
   "metadata": {
    "collapsed": true
   },
   "outputs": [],
   "source": [
    "from turtle import Turtle, Terrarium"
   ]
  },
  {
   "cell_type": "markdown",
   "metadata": {},
   "source": [
    "## Making fractals with functional Python"
   ]
  },
  {
   "cell_type": "code",
   "execution_count": 3,
   "metadata": {
    "collapsed": true
   },
   "outputs": [],
   "source": [
    "def snowflake(turtle,dist,level):\n",
    "    for i in range(3):\n",
    "        drawkoch(turtle,dist,level)\n",
    "        turtle.right(120)\n",
    "\n",
    "def drawkoch(turtle,distance,level):\n",
    "    if level == 0:\n",
    "        turtle.forward(distance)\n",
    "    else:\n",
    "        drawkoch(turtle,distance/3,level-1)\n",
    "        turtle.left(60)\n",
    "        drawkoch(turtle,distance/3,level-1)\n",
    "        turtle.left(-120)\n",
    "        drawkoch(turtle,distance/3,level-1)\n",
    "        turtle.left(60)\n",
    "        drawkoch(turtle,distance/3,level-1)"
   ]
  },
  {
   "cell_type": "code",
   "execution_count": null,
   "metadata": {
    "collapsed": true
   },
   "outputs": [],
   "source": []
  }
 ],
 "metadata": {
  "anaconda-cloud": {},
  "kernelspec": {
   "display_name": "Python 3",
   "language": "python",
   "name": "python3"
  },
  "language_info": {
   "codemirror_mode": {
    "name": "ipython",
    "version": 3
   },
   "file_extension": ".py",
   "mimetype": "text/x-python",
   "name": "python",
   "nbconvert_exporter": "python",
   "pygments_lexer": "ipython3",
   "version": "3.8.2"
  }
 },
 "nbformat": 4,
 "nbformat_minor": 1
}

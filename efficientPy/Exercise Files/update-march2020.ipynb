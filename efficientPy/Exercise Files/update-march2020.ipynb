{
 "cells": [
  {
   "cell_type": "markdown",
   "metadata": {},
   "source": [
    "# Python: Programming Efficiently — March 2020 update"
   ]
  },
  {
   "cell_type": "markdown",
   "metadata": {},
   "source": [
    "The core Python language and its ecosystem (including many third-party packages) are always changing and improving. As a consequence, some of the code shown in this course needs to be modified (usually slightly) to run with a recent Python installation. A different mismatch is created when something changes in the external world, such as the `mars.nasa.gov` website with which we interact in chapter 3.\n",
    "\n",
    "Nevertheless, the great majority of the content of this course remains informative and up to date. In this document I collect comments and small fixes that will be useful when taking this course in 2020. All comments and fixes are included also in the Jupyter notebooks for each video. Instead of typing along with me, I suggest you open each updated `XX_YY_ZZZZ_end.ipynb` and execute cells (some of which will be slightly different) as I do.\n",
    "\n",
    "Enjoy! — Michele"
   ]
  },
  {
   "cell_type": "markdown",
   "metadata": {},
   "source": [
    "## Chapter 1: installation\n",
    "\n",
    "### 02_01\n",
    "\n",
    "* Version 2020.02 of the Anaconda installer includes all packages used in this course, except for `basemap`, `line_profiler`, and `memory_profiler`, and `geopy`. These can be installed with\n",
    "\n",
    "        conda install basemap\n",
    "        conda install line_profiler\n",
    "        conda install memory_profiler\n",
    "        pip install geopy\n",
    "        \n",
    "* However, some versions of Basemap have problems (related to undefined environment variables such as `PROJ_LIB`) when installed in the conda base environment. To avoid those, you can create a new `conda` environment, activate it, and then install both the base `anaconda` packages and the extra packages we need:\n",
    "    \n",
    "        conda create -n lynda\n",
    "        source activate lynda\n",
    "        conda install anaconda\n",
    "        conda install basemap\n",
    "        conda install line_profiler\n",
    "        conda install memory_profiler\n",
    "        pip install geopy\n",
    "\n",
    "* If `conda install basemap` fails (especially on Windows), you can also try\n",
    "\n",
    "        conda install -c conda-forge basemap\n",
    "        \n",
    "* Last, while Basemap has been deprecated in favor of `cartopy` (https://scitools.org.uk/cartopy/docs/latest), in my testing I have found that the latter is not sufficiently stable to use it as we do in this course. You can give it a try though: the interface is very similar to Basemap."
   ]
  },
  {
   "cell_type": "markdown",
   "metadata": {},
   "source": [
    "## Chapter 2: writing Python efficiently\n",
    "\n",
    "### 02_03\n",
    "\n",
    "* at 04:00 in the video: `geopy.geocoders.Nominatim` should be called with a unique `user_agent` (make one up!) to avoid user-policy violations. In addition, on a slow connection it may be necessary to give `Nominatim` a higher timeout (for example, `timeout = 10`).\n",
    "* at 05:20 in the video: the `Nominatim` geocoder now returns Italy and Greece locations for Rome and Athens instead of the smaller U.S. towns, so the more detailed queries described in the video are not necessary.\n",
    "\n",
    "### 02_04\n",
    "\n",
    "* at 02:58 in the video: some versions of Basemap (such as 1.2.1) crash if `lat_0` is greater than 45 degrees. We change the code accordingly. Also, when coordinates end outside the map because a location is not visible, `world` returns `inf`, resulting in a `matplotlib` warning. We check for `inf` to avoid the warnings.  \n",
    "\n",
    "### 02_05\n",
    "\n",
    "* at 06:07 in the video: beginning in Python 3.6 for the standard CPython implementation of the language, and in Python 3.7 for the core language, the standard `dict` objects preserve the insertion order, so there's no need for `collections.OrderedDict()`; correspondingly, the dict comprehension shown at 06:34 is generated with the same order as the `OrderedDict`.\n",
    "\n",
    "### 02_06\n",
    "\n",
    "* at 03:54 in the video: as of version 3.6, Python offers *f-strings*—an even more convenient and Pythonic way to intersperse values within strings. With an f-string, one would write this interpolation by using the variable names (including field names) directly:\n",
    "\n",
    "        print(f'In {medal.year}, {medal.athlete} won for {medal.team}.')\n",
    "    \n",
    "    Beautiful (but don't forget the `f`)!"
   ]
  },
  {
   "cell_type": "markdown",
   "metadata": {},
   "source": [
    "## Chapter 3: exploiting Python libraries\n",
    "\n",
    "### all videos\n",
    "\n",
    "* The `mars.nasa.gov` portal has been restyled, so it now looks different than as shown in the video. Furthermore, the website now uses JavaScript to populate query pages dynamically, so we cannot load those pages and find image URLs as we do in this chapter. The same information is however available (in JSON format) from `api.nasa.gov`: that's what we use in the updated 03_05_matplotlib notebooks, included here.\n",
    "\n",
    "### 03_02\n",
    "\n",
    "* at 00:47 in the video: while the `mars.nasa.gov` portal has been restyled and the page `http://mars.nasa.gov/msl/multimedia/raw` contains different information, for the purpose of exemplifying HTTP requests, the code used in the video is still adequate.\n",
    "\n",
    "### 03_03\n",
    "\n",
    "* at 01:30 in the video: since the `mars.nasa.gov` portal has been restyled, the structure of the webpage that you would download would be different than shown in the video. To follow along, I suggest you load instead the cached version of the page, file `sol1460.json` in the exercise files, by running\n",
    "\n",
    "        htmlpage = json.load(open('sol1460.json','r'))\n",
    "        \n",
    "### 03_05 and 03_07\n",
    "\n",
    "* at 01:30 in the video: since the `mars.nasa.gov` portal uses JavaScript to populate image query pages, so we cannot find image URLs using a GET request from `http://mars.nasa.gov/msl/multimedia/raw`. However, the same information is available in JSON files from `api.nasa.gov`, with GET URLs similar to\n",
    "\n",
    "        https://api.nasa.gov/mars-photos/api/v1/rovers/curiosity/photos?sol=1460&camera=FHAZ&api_key=DEMO_KEY\n",
    "\n",
    "    The notebook is updated accordingly. Instead of `BeautifulSoup`, it uses `json` to parse the response. Note that the `DEMO_KEY` is limited to 30 requests per day. Those will be sufficient for what we do below, but you can generate your own key, with much larger limits, at https://api.nasa.gov. The code will still attempt to use a local cache of json files and images, if available.\n",
    "    \n",
    "    \n",
    "### 03_07\n",
    "\n",
    "* If you have problems connecting to `localhost` with Windows 10 and Edge, try Firefox.\n",
    "\n",
    "### 03_09\n",
    "\n",
    "* If you have problems connecting to `localhost` with Windows 10 and Edge, try Firefox."
   ]
  },
  {
   "cell_type": "markdown",
   "metadata": {},
   "source": [
    "## Chapter 4: Python object-oriented and functional programming\n",
    "\n",
    "### all videos\n",
    "\n",
    "* the `turtle.py` module was updated to work correctly with newer versions of `matplotlib`, and by default animations are now shown with a Javascript player. HTML5 movies can be generated instead by using `Terrarium(animate=True, javascript=False)`.\n",
    "\n",
    "### 04_06\n",
    "\n",
    "* at 00:30 in the video: the second argument to `fb` is called `length` here, but my solution relies on it being called `distance` instead."
   ]
  },
  {
   "cell_type": "markdown",
   "metadata": {},
   "source": [
    "## Chapter 5: introduction to performance and optimization in Python\n",
    "\n",
    "### 05_02\n",
    "\n",
    "* at 06:06 in video: in recent version of `Numba`, `autojit` is available as `jit`, with the same functionality. In addition, the Numba compiler has problems with functions that take lists and set (which are mutable) as input. In our case, it's easy to replace the `extent` list with a tuple. \n",
    "\n",
    "### 05_05\n",
    "\n",
    "* at 03:55 in the video: with recent versions of Jupyter notebook, `multiprocessing.Pool` is unable to access the function `compute_mandel_numpy`, which is defined in the notebook. The workaround is to define it within an imported module (`compute_mandel.py`) in this directory instead. It remains possible to work outside the notebook, and experiment with the script `run_mandel_mp.py`, as suggested in the video for the Windows platform.\n",
    "\n",
    "### 05_07\n",
    "\n",
    "* at 00:00 in the video: with recent versions of Jupyter and `multiprocessing`, the solution as given in the video does not work because the parallel processes do not have access to the function `worker` and to the variables `words`, `target`, and `chunksize`. The simplest workaround is to collect the code in a separate script `wordsearch.py` (which we write out in the cell below), and to run it from the shell. When the `multiprocessing` Pool is created, it will automatically import the file `wordsearch` in every new process. Note that the code that initializes and runs the `Pool` is guarded by the clause `if __name__ == '__main__'`: this avoids recreating the Pool recursively."
   ]
  },
  {
   "cell_type": "code",
   "execution_count": null,
   "metadata": {},
   "outputs": [],
   "source": []
  }
 ],
 "metadata": {
  "kernelspec": {
   "display_name": "Python 3",
   "language": "python",
   "name": "python3"
  },
  "language_info": {
   "codemirror_mode": {
    "name": "ipython",
    "version": 3
   },
   "file_extension": ".py",
   "mimetype": "text/x-python",
   "name": "python",
   "nbconvert_exporter": "python",
   "pygments_lexer": "ipython3",
   "version": "3.8.2"
  }
 },
 "nbformat": 4,
 "nbformat_minor": 4
}

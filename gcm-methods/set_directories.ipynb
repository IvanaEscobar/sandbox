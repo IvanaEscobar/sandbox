{
 "cells": [
  {
   "cell_type": "code",
   "execution_count": 15,
   "metadata": {},
   "outputs": [],
   "source": [
    "#\n",
    "# Setting local paths for reading and writing of ASTE MITgcm preprocessing\n",
    "# This is called AFTER the defining indices process (ie: define_NA540x270_indicies.m)\n",
    "#\n",
    "from os import uname, getlogin\n",
    "from time import strftime"
   ]
  },
  {
   "cell_type": "code",
   "execution_count": 28,
   "metadata": {},
   "outputs": [],
   "source": [
    "# Extract user information\n",
    "system = uname()\n",
    "user = getlogin()\n",
    "host = system[1]"
   ]
  },
  {
   "cell_type": "code",
   "execution_count": 29,
   "metadata": {},
   "outputs": [
    {
     "name": "stdout",
     "output_type": "stream",
     "text": [
      "Using datestamp: 17Oct2018\n"
     ]
    }
   ],
   "source": [
    "# Record date: hardcode the date to use old datestamped output\n",
    "datestamp = strftime('%d%b%Y')\n",
    "print('Using datestamp: %s' %(datestamp) )"
   ]
  },
  {
   "cell_type": "code",
   "execution_count": 35,
   "metadata": {},
   "outputs": [
    {
     "name": "stdout",
     "output_type": "stream",
     "text": [
      "on local comp\n"
     ]
    }
   ],
   "source": [
    "## =============== CHILD GLOBAL ===============\n",
    "# Specifying path system of gloabal domain based on hostname and resolution.\n",
    "\n",
    "if( host == 'sverdrup.ices.utexas.edu' ):\n",
    "    print('sdfs')\n",
    "elif( host == 'Ivanas-MacBook-Pro.local' ):\n",
    "    print('on local comp')\n",
    "else:\n",
    "    print 'h'\n"
   ]
  },
  {
   "cell_type": "code",
   "execution_count": 31,
   "metadata": {},
   "outputs": [
    {
     "data": {
      "text/plain": [
       "True"
      ]
     },
     "execution_count": 31,
     "metadata": {},
     "output_type": "execute_result"
    }
   ],
   "source": [
    "host == 'Ivanas-MacBook-Pro.local'"
   ]
  },
  {
   "cell_type": "code",
   "execution_count": null,
   "metadata": {},
   "outputs": [],
   "source": []
  }
 ],
 "metadata": {
  "kernelspec": {
   "display_name": "Python 2",
   "language": "python",
   "name": "python2"
  },
  "language_info": {
   "codemirror_mode": {
    "name": "ipython",
    "version": 2
   },
   "file_extension": ".py",
   "mimetype": "text/x-python",
   "name": "python",
   "nbconvert_exporter": "python",
   "pygments_lexer": "ipython2",
   "version": "2.7.15"
  }
 },
 "nbformat": 4,
 "nbformat_minor": 2
}

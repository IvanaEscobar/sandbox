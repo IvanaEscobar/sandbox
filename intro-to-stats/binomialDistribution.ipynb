{
 "cells": [
  {
   "cell_type": "markdown",
   "metadata": {},
   "source": [
    "# Binomial Distribution\n",
    "\n",
    "Tool to calculate the binomial probability distribution function. NOTE: A cumulative distribution function still needs to be calculated manually.\n",
    "\n",
    "$$P(k) = \\begin{pmatrix}n\\\\\n",
    "k\n",
    "\\end{pmatrix}p_k^k (1-p_k)^{n-k}$$"
   ]
  },
  {
   "cell_type": "code",
   "execution_count": 16,
   "metadata": {},
   "outputs": [],
   "source": [
    "from math import factorial, sqrt"
   ]
  },
  {
   "cell_type": "code",
   "execution_count": 7,
   "metadata": {},
   "outputs": [],
   "source": [
    "def nCk(n,k):\n",
    "    return factorial(n)/( factorial(n-k)*factorial(k) )\n",
    "\n",
    "def binomPDF(n,k,pk):\n",
    "    return nCk(n,k) * pk**k * (1-pk)**(n-k)"
   ]
  },
  {
   "cell_type": "markdown",
   "metadata": {},
   "source": [
    "======================================================================"
   ]
  },
  {
   "cell_type": "code",
   "execution_count": 8,
   "metadata": {},
   "outputs": [],
   "source": [
    "# Cumulative example\n",
    "pk=.6\n",
    "n=5\n",
    "\n",
    "gt3=binomPDF(n,4,pk)+binomPDF(n,5,pk)"
   ]
  },
  {
   "cell_type": "code",
   "execution_count": 13,
   "metadata": {},
   "outputs": [
    {
     "name": "stdout",
     "output_type": "stream",
     "text": [
      "0.02699999999999999\n"
     ]
    }
   ],
   "source": [
    "pk=.9\n",
    "n=3\n",
    "k=1\n",
    "\n",
    "lte1=binomPDF(n,k,pk)\n",
    "print(lte1)"
   ]
  },
  {
   "cell_type": "code",
   "execution_count": 30,
   "metadata": {},
   "outputs": [
    {
     "data": {
      "text/plain": [
       "3.0618621784789726"
      ]
     },
     "execution_count": 30,
     "metadata": {},
     "output_type": "execute_result"
    }
   ],
   "source": [
    "sqrt(.25*.75*50)"
   ]
  },
  {
   "cell_type": "code",
   "execution_count": null,
   "metadata": {},
   "outputs": [],
   "source": []
  }
 ],
 "metadata": {
  "kernelspec": {
   "display_name": "Python 3",
   "language": "python",
   "name": "python3"
  },
  "language_info": {
   "codemirror_mode": {
    "name": "ipython",
    "version": 3
   },
   "file_extension": ".py",
   "mimetype": "text/x-python",
   "name": "python",
   "nbconvert_exporter": "python",
   "pygments_lexer": "ipython3",
   "version": "3.7.5"
  }
 },
 "nbformat": 4,
 "nbformat_minor": 2
}

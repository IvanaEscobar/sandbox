{
 "cells": [
  {
   "cell_type": "markdown",
   "metadata": {},
   "source": [
    "# 1.1.2 Solve 1st order wave equation\n",
    "\n",
    "$\n",
    "    \\frac{\\partial u}{\\partial t} + c \\frac{\\partial u}{\\partial x} = F(x,t)\n",
    "$\n",
    "\n",
    "Using finite difference stepping in time.\n",
    "\n",
    "$\n",
    "    \\frac{u_{n}^{k+1} - u_{n}^{k}}{\\Delta t} + c \\frac{u_{n}^{k}-u_{n-1}^{k}}{\\Delta x} = F_n^k \\\\\n",
    "    {u_{n}^{k+1} = u_{n}^{k}} - \\frac{c \\Delta t}{\\Delta x} \\big( u_{n}^{k}-u_{n-1}^{k} \\big) + \\Delta t F_n^k \n",
    "$"
   ]
  },
  {
   "cell_type": "code",
   "execution_count": 1,
   "metadata": {},
   "outputs": [],
   "source": [
    "from numpy import arange, insert, linspace"
   ]
  },
  {
   "cell_type": "code",
   "execution_count": 14,
   "metadata": {},
   "outputs": [],
   "source": [
    "class waveEq:\n",
    "    # static elements go here\n",
    "    \n",
    "    def __init__(self):\n",
    "        # object elements go here, default case set\n",
    "        self.c = 0.5\n",
    "        self.T = 1.\n",
    "        self.L = 1.\n",
    "        self.dt = 1e-3\n",
    "        self.dx = 1e-3\n",
    "        \n",
    "    def cfl(self):\n",
    "        return self.c*self.dt/self.dx\n",
    "    \n",
    "    def checkCFL(self):\n",
    "        while True:\n",
    "            try:\n",
    "                input = self.c*self.dt/self.dx\n",
    "                if (input <= 1):\n",
    "                    print(\"Satisfies CFL stability condition: %0.1f <= 1.0\" %input)\n",
    "                    return\n",
    "                else:\n",
    "                    print(\"Doesn't satisfy CFL condition: %0.4f > 1.0\" %input)\n",
    "                    break\n",
    "            except:\n",
    "                print (\"That's not a number\")"
   ]
  },
  {
   "cell_type": "code",
   "execution_count": 27,
   "metadata": {},
   "outputs": [],
   "source": [
    "def bCs():\n",
    "    return 2.0\n",
    "def iCs(length):\n",
    "    return linspace(1,1,length)\n",
    "def forcing(length):\n",
    "    return linspace(0,1,length)\n",
    "\n",
    "def fdSolver(waveEq):\n",
    "    print(\"\\nInitializing finite difference solver...\\n\")\n",
    "    # dizcretize space\n",
    "    x = arange(0,waveEq.L,waveEq.dx)\n",
    "    \n",
    "    # ic = I(x) assuming all ones\n",
    "    u0 = iCs(x.size)\n",
    "    # bc = B(t) assuming constant\n",
    "    bc = bCs()\n",
    "\n",
    "    # Initialize solution field\n",
    "    u = u0\n",
    "    # add ghost node for downwind scheme\n",
    "    u0 = insert(u, 0, 0)\n",
    "\n",
    "    for ii in range(int(waveEq.T/waveEq.dt)):\n",
    "        # impose an applied force field\n",
    "        if (ii==1):\n",
    "            f = forcing(x.size)\n",
    "        else:\n",
    "            f = linspace(0,0,x.size)\n",
    "            \n",
    "        # re-impose boundary condition\n",
    "        u0[1] = bc\n",
    "    \n",
    "        u[:] = ( 1-waveEq.cfl() )*u0[1:] + waveEq.cfl()*u0[:-1] + waveEq.dt*f\n",
    "        # step through time u --> u0, and loop through time\n",
    "        u0[1:] = u\n",
    "    # apply bc on final step\n",
    "    u[0]=bc\n",
    "    print(\"...finished running solver.\")\n",
    "    return u"
   ]
  },
  {
   "cell_type": "code",
   "execution_count": 28,
   "metadata": {},
   "outputs": [
    {
     "name": "stdout",
     "output_type": "stream",
     "text": [
      "Satisfies CFL stability condition: 0.5 <= 1.0\n",
      "\n",
      "Initializing finite difference solver...\n",
      "\n",
      "...finished running solver.\n"
     ]
    }
   ],
   "source": [
    "q1 = waveEq()\n",
    "\n",
    "q1.checkCFL()\n",
    "u=fdSolver(q1)"
   ]
  },
  {
   "cell_type": "markdown",
   "metadata": {},
   "source": [
    "## Plotting reuslts for given IC and BCs\n",
    "\n",
    "Let $u(x,0) = I(x) = \\bf{1}$ and $u(0,t) = B(t) = 2$. \n",
    "\n",
    "The final result is plotted below"
   ]
  },
  {
   "cell_type": "code",
   "execution_count": 17,
   "metadata": {},
   "outputs": [],
   "source": [
    "from matplotlib.pyplot import plot"
   ]
  },
  {
   "cell_type": "code",
   "execution_count": 29,
   "metadata": {},
   "outputs": [
    {
     "data": {
      "text/plain": [
       "[<matplotlib.lines.Line2D at 0x116aa9cd0>]"
      ]
     },
     "execution_count": 29,
     "metadata": {},
     "output_type": "execute_result"
    },
    {
     "data": {
      "image/png": "[encoded data removed]",
      "text/plain": [
       "<Figure size 432x288 with 1 Axes>"
      ]
     },
     "metadata": {
      "needs_background": "light"
     },
     "output_type": "display_data"
    }
   ],
   "source": [
    "plot(u)"
   ]
  },
  {
   "cell_type": "markdown",
   "metadata": {},
   "source": [
    "written by I. Escobar 2020"
   ]
  }
 ],
 "metadata": {
  "kernelspec": {
   "display_name": "Python 3",
   "language": "python",
   "name": "python3"
  },
  "language_info": {
   "codemirror_mode": {
    "name": "ipython",
    "version": 3
   },
   "file_extension": ".py",
   "mimetype": "text/x-python",
   "name": "python",
   "nbconvert_exporter": "python",
   "pygments_lexer": "ipython3",
   "version": "3.7.4"
  }
 },
 "nbformat": 4,
 "nbformat_minor": 2
}

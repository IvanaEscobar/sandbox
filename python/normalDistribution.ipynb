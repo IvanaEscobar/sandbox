{
 "cells": [
  {
   "cell_type": "code",
   "execution_count": 20,
   "metadata": {},
   "outputs": [],
   "source": [
    "from numpy import sqrt, pi, exp, inf\n",
    "from scipy.integrate import quad"
   ]
  },
  {
   "cell_type": "code",
   "execution_count": 27,
   "metadata": {},
   "outputs": [],
   "source": [
    "def zNormalPDF (x): # sigma=1 mu=0\n",
    "    constant = 1.0 / sqrt(2*pi) \n",
    "    return constant * exp( -x**2 / 2.0 )\n",
    "\n",
    "def zScore (x, mu, sigma):\n",
    "    return (x-mu) / sigma\n",
    "\n",
    "def xFromZ (z, mu, sigma):\n",
    "    return z*sigma + mu"
   ]
  },
  {
   "cell_type": "code",
   "execution_count": 44,
   "metadata": {},
   "outputs": [
    {
     "name": "stdout",
     "output_type": "stream",
     "text": [
      "z1: 1.3500\t\t z2: 0.4500\n",
      "zp1: 0.9115\t\t zp2: 0.6736\n",
      "p1: 0.0000\t\t p2: 0.0000\n",
      "Area between: 0.2378\n"
     ]
    }
   ],
   "source": [
    "mu=80.2\n",
    "sigma=4\n",
    "\n",
    "def normalPDF (x):\n",
    "    constant = 1.0 / sqrt(2*pi) / sigma\n",
    "    return constant * exp( -(x-mu)**2 / (2.0*sigma**2) )\n",
    "\n",
    "\n",
    "z1=zScore(85.6, mu, sigma)\n",
    "z2=zScore(82, mu, sigma)\n",
    "\n",
    "zp1, _ = quad(zNormalPDF, -inf, z1)\n",
    "zp2, _ = quad(zNormalPDF, -inf, z2)\n",
    "p1, _ = quad(normalPDF, -inf, 60)\n",
    "p2, _ = quad(normalPDF, -inf, 48.5)\n",
    "print('z1: %0.4f\\t\\t z2: %0.4f' %(z1,z2))\n",
    "print('zp1: %0.4f\\t\\t zp2: %0.4f' %(zp1,zp2))\n",
    "print('p1: %0.4f\\t\\t p2: %0.4f' %(p1,p2))\n",
    "print('Area between: %0.4f' %(zp1-zp2))"
   ]
  },
  {
   "cell_type": "code",
   "execution_count": 43,
   "metadata": {},
   "outputs": [
    {
     "name": "stdout",
     "output_type": "stream",
     "text": [
      "1281.26\n"
     ]
    }
   ],
   "source": [
    "mu=1497\n",
    "sigma=322\n",
    "z= -0.67\n",
    "\n",
    "print(xFromZ(z,mu,sigma))"
   ]
  },
  {
   "cell_type": "code",
   "execution_count": null,
   "metadata": {},
   "outputs": [],
   "source": []
  }
 ],
 "metadata": {
  "kernelspec": {
   "display_name": "Python 3",
   "language": "python",
   "name": "python3"
  },
  "language_info": {
   "codemirror_mode": {
    "name": "ipython",
    "version": 3
   },
   "file_extension": ".py",
   "mimetype": "text/x-python",
   "name": "python",
   "nbconvert_exporter": "python",
   "pygments_lexer": "ipython3",
   "version": "3.7.5"
  }
 },
 "nbformat": 4,
 "nbformat_minor": 2
}

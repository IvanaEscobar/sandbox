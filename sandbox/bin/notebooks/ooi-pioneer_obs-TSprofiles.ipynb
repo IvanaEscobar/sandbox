{
 "cells": [
  {
   "cell_type": "markdown",
   "metadata": {},
   "source": [
    "# Coastal Pioneer Hydrography\n",
    "\n",
    "Daily mean of salinity and temperature on 01 May 2015 for the following profiler moorings:\n",
    "- CP04OSPM\n",
    "- CP02PMUO\n",
    "- CP02PMUI: *NO DATA in 01 May 2015, removed from list*\n",
    "- CP02PMCO\n",
    "- CP02PMCI"
   ]
  },
  {
   "cell_type": "code",
   "execution_count": 1,
   "metadata": {},
   "outputs": [],
   "source": [
    "import numpy as np\n",
    "import xarray as xr\n",
    "import matplotlib.pyplot as plt\n",
    "\n",
    "import os\n",
    "import warnings\n",
    "warnings.simplefilter('ignore')\n",
    "os.environ['PYTHONWARNOINGS'] = 'ignore'\n",
    "\n",
    "plt.rcParams.update({'figure.figsize':(15,5),'font.size':18})"
   ]
  },
  {
   "cell_type": "code",
   "execution_count": 2,
   "metadata": {},
   "outputs": [],
   "source": [
    "dataDir = f'/scratch2/shared/ooi-pioneer'\n",
    "\n",
    "pmDirList = []\n",
    "pmDirList.append(dataDir + '/20201202T013321038Z-CP04OSPM-WFP01-03-CTDPFK000-recovered_wfp-ctdpf_ckl_wfp_instrument_recovered')\n",
    "pmDirList.append(dataDir + '/20201202T032723712Z-CP02PMUO-WFP01-03-CTDPFK000-recovered_wfp-ctdpf_ckl_wfp_instrument_recovered')\n",
    "#pmDirList.append(dataDir + '/20201202T032912160Z-CP02PMUI-WFP01-03-CTDPFK000-recovered_wfp-ctdpf_ckl_wfp_instrument_recovered')\n",
    "pmDirList.append(dataDir + '/20201202T033005656Z-CP02PMCO-WFP01-03-CTDPFK000-recovered_wfp-ctdpf_ckl_wfp_instrument_recovered')\n",
    "pmDirList.append(dataDir + '/20201202T033239959Z-CP02PMCI-WFP01-03-CTDPFK000-recovered_wfp-ctdpf_ckl_wfp_instrument_recovered')\n",
    "\n",
    "pmNameList = ['CP04OSPM', 'CP02PMUO', 'CP02PMCO', 'CP02PMCI']\n",
    "pmNameList = ['OSPM', 'PMUO', 'PMCO', 'PMCI']"
   ]
  },
  {
   "cell_type": "code",
   "execution_count": 3,
   "metadata": {},
   "outputs": [
    {
     "name": "stdout",
     "output_type": "stream",
     "text": [
      "CPU times: user 731 ms, sys: 314 ms, total: 1.05 s\n",
      "Wall time: 1.16 s\n"
     ]
    }
   ],
   "source": [
    "%%time\n",
    "dsList = []\n",
    "for pmDir in pmDirList:\n",
    "    dsList.append(xr.open_mfdataset(f'{pmDir}/*.nc').swap_dims({'obs':'time'}))"
   ]
  },
  {
   "cell_type": "markdown",
   "metadata": {},
   "source": [
    "roughly 1M points at the same lat lon over time, varying in depth, for each profiler mooring."
   ]
  },
  {
   "cell_type": "markdown",
   "metadata": {},
   "source": [
    "### Slice a single day: 01 May 2015\n",
    "\n",
    "We save a smaller time interval from the global time. We will take the time mean of that interval to create the vertical profile. "
   ]
  },
  {
   "cell_type": "code",
   "execution_count": 4,
   "metadata": {},
   "outputs": [],
   "source": [
    "ds01May15List = []\n",
    "zMax = []\n",
    "\n",
    "for ds in dsList:\n",
    "    ds01May15List.append(ds.sel(time=slice(\"2015-05-01\", \"2015-05-02T00:00\")))\n",
    "    zMax.append(max(ds01May15List[-1].coords['depth'].values))"
   ]
  },
  {
   "cell_type": "markdown",
   "metadata": {},
   "source": [
    "#### Convert measured to potential temperature\n",
    "\n",
    "To account for the pressure effects, a variable called potential temperature, denoted θ, is traditionally used in oceanography. The potential temperature of a water parcel is the temperature that would be measured if the water parcel were enclosed in a bag (to prevent the loss or gain of any salt) and brought to the ocean surface adiabatically (i.e., without exchanging any heat with its surroundings).\n",
    "\n",
    "p0 is at the waters surface usually 0dbar.\n",
    "\n",
    "[Calculates potential temperature as per UNESCO 1983 report](https://pythonhosted.org/seawater/eos80.html)\n",
    "\n",
    "\n",
    "Practical Salinity is PSU"
   ]
  },
  {
   "cell_type": "code",
   "execution_count": 5,
   "metadata": {},
   "outputs": [],
   "source": [
    "import seawater as sw"
   ]
  },
  {
   "cell_type": "code",
   "execution_count": 6,
   "metadata": {},
   "outputs": [],
   "source": [
    "for ds01May15 in ds01May15List:\n",
    "    tmp = sw.eos80.ptmp(ds01May15['practical_salinity'],\\\n",
    "             ds01May15['ctdpf_ckl_seawater_temperature'],\\\n",
    "             ds01May15['ctdpf_ckl_seawater_pressure'])\n",
    "    ds01May15['THETA'] = xr.DataArray( data=tmp, dims=['time'],\\\n",
    "                           coords=ds01May15.coords,\\\n",
    "                           attrs=dict(description=\"Potential temperature\",\\\n",
    "                                      units=\"degC\") )\n",
    "    \n",
    "    soundSpeed = sw.eos80.svel(ds01May15['practical_salinity'],\\\n",
    "             ds01May15['ctdpf_ckl_seawater_temperature'],\\\n",
    "             ds01May15['ctdpf_ckl_seawater_pressure'])\n",
    "    ds01May15['soundSpeed'] = xr.DataArray( data=soundSpeed, dims=['time'],\\\n",
    "                                            coords=ds01May15.coords,\\\n",
    "                                            attrs=dict(description=\"Sound Velocity\",\\\n",
    "                                                       units=\"m/s\") )"
   ]
  },
  {
   "cell_type": "markdown",
   "metadata": {},
   "source": [
    "### Apply mean over all depth intervals\n",
    "\n",
    "The mean values are assigned to the bottom bound of the interval. \n",
    "\n",
    "ie. for the interval from 26 to 27 m, the time mean value is stored at 26 m depth. "
   ]
  },
  {
   "cell_type": "code",
   "execution_count": 7,
   "metadata": {},
   "outputs": [],
   "source": [
    "def meanOnDepthIntervals(scalarVal,Depth):\n",
    "    DList = []\n",
    "    for ds01May15, zM in zip(ds01May15List, Depth):\n",
    "        binEdge = np.linspace( 0, np.ceil(zM), num=int(np.ceil(zM)+1) )\n",
    "        valD = dict.fromkeys(binEdge, [])\n",
    "        dz = binEdge[1]-binEdge[0]\n",
    "    \n",
    "        for z in valD:\n",
    "            tmpVal = ds01May15[scalarVal].where((ds01May15.coords['depth'] >= z) & \\\n",
    "                                                (ds01May15.coords['depth'] < z+dz) )\n",
    "            #if (ds01May15.attrs[\"subsite\"] == 'CP04OSPM'):\n",
    "            #    print(tmpVal.mean('time').values.tolist())\n",
    "            valD[z] = tmpVal.mean('time').values.tolist()\n",
    "        \n",
    "        DList.append(valD)\n",
    "    return DList"
   ]
  },
  {
   "cell_type": "code",
   "execution_count": 9,
   "metadata": {},
   "outputs": [
    {
     "name": "stdout",
     "output_type": "stream",
     "text": [
      "CPU times: user 1min 9s, sys: 1.28 s, total: 1min 10s\n",
      "Wall time: 1min 3s\n"
     ]
    }
   ],
   "source": [
    "%%time\n",
    "saltDList = meanOnDepthIntervals('practical_salinity',zMax)\n",
    "tempDList = meanOnDepthIntervals('THETA',zMax)\n",
    "soundSpDList = meanOnDepthIntervals('soundSpeed',zMax)"
   ]
  },
  {
   "cell_type": "markdown",
   "metadata": {},
   "source": [
    "#### Save the T, S, Sound speed profiles "
   ]
  },
  {
   "cell_type": "code",
   "execution_count": null,
   "metadata": {},
   "outputs": [],
   "source": [
    "for ds in ds01May15List:\n",
    "    ds.to_netcdf(\"../data/ncFiles/%s_OOI_SSP_01May15.nc\" % ds01May15.attrs[\"subsite\"] )"
   ]
  },
  {
   "cell_type": "markdown",
   "metadata": {},
   "source": [
    "## Plot salinity and temperature profiles"
   ]
  },
  {
   "cell_type": "code",
   "execution_count": null,
   "metadata": {},
   "outputs": [],
   "source": [
    "plt.rcParams.update({'font.size':24})\n",
    "plt.figure(figsize=(11,15), dpi=360)\n",
    "for saltD,tempD,soundSpD, name in zip(saltDList,tempDList,soundSpDList, pmNameList):\n",
    "    plt.subplot(1,3,1)\n",
    "    plt.plot(saltD.values(), saltD.keys(), label=name, linewidth=2)\n",
    "    plt.ylim(421,0)\n",
    "    plt.legend(fontsize=20)\n",
    "    plt.xlabel('Salinity [psu]')\n",
    "    plt.ylabel('Depth [m]')\n",
    "    \n",
    "    plt.subplot(1,3,2)\n",
    "    plt.plot(tempD.values(), tempD.keys(), label=name, linewidth=2)\n",
    "    plt.ylim(421,0) \n",
    "    plt.xlabel(r'Temperature [$^\\circ C$]')\n",
    "\n",
    "    plt.subplot(1,3,3)\n",
    "    plt.plot(soundSpD.values(), soundSpD.keys(), label=name, linewidth=2)\n",
    "    plt.ylim(421,0) \n",
    "    plt.xlabel(r'Sound Speed [$m/s$]')\n",
    "    \n",
    "plt.suptitle('01 May 2015')\n",
    "#plt.show()\n",
    "#plt.savefig(\"../img/pioneer_15-05-01_TSprofiles.png\")"
   ]
  },
  {
   "cell_type": "markdown",
   "metadata": {},
   "source": [
    "### Add ECCO T,S"
   ]
  },
  {
   "cell_type": "code",
   "execution_count": null,
   "metadata": {},
   "outputs": [],
   "source": [
    "eccoDs = xr.open_mfdataset('../data/eccov4r4_daily_15-05-01_TS.nc')\n",
    "D=660 # [m]\n",
    "saltDList.append('ecco');tempDList.append('ecco');soundSpDList.append('ecco');pmNameList.append('ecco')"
   ]
  },
  {
   "cell_type": "code",
   "execution_count": null,
   "metadata": {},
   "outputs": [],
   "source": [
    "#calc sound speed with oceanAcouPy\n",
    "import oceanAcouPy as oa"
   ]
  },
  {
   "cell_type": "code",
   "execution_count": null,
   "metadata": {},
   "outputs": [],
   "source": [
    "eccoDs['soundSpeed'] = oa.soundSpeed.cSTD(eccoDs['THETA'], eccoDs['SALT'], eccoDs.Z, eqn='leroy08')"
   ]
  },
  {
   "cell_type": "code",
   "execution_count": null,
   "metadata": {},
   "outputs": [],
   "source": [
    "eccoDs"
   ]
  },
  {
   "cell_type": "code",
   "execution_count": null,
   "metadata": {},
   "outputs": [],
   "source": [
    "plt.figure(figsize=(18,15), dpi=1080)\n",
    "for saltD, tempD, soundSpD, name in zip(saltDList,tempDList,soundSpDList, pmNameList):\n",
    "    plt.subplot(1,3,1)\n",
    "    if (saltD == 'ecco'):\n",
    "        plt.plot(eccoDs['SALT'].T, -1*eccoDs.Z, c='k', label='ECCOv4r4', linewidth=3)\n",
    "    else:\n",
    "        plt.plot(saltD.values(), saltD.keys(), label=name, linewidth=2)\n",
    "    \n",
    "    plt.ylim(D,0)\n",
    "    plt.xlabel('Salinity [psu]')\n",
    "    plt.ylabel('Depth [m]')\n",
    "    \n",
    "    plt.subplot(1,3,2)\n",
    "    if (tempD == 'ecco'):\n",
    "        plt.plot(eccoDs['THETA'].T, -1*eccoDs.Z, c='k', label='ECCOv4r4', linewidth=3)\n",
    "    else:\n",
    "        plt.plot(tempD.values(), tempD.keys(), label=name, linewidth=2)\n",
    "    plt.ylim(D,0) \n",
    "    plt.xlabel(r'Temperature [$^\\circ C$]')\n",
    "    \n",
    "    plt.subplot(1,3,3)\n",
    "    if (soundSpD == 'ecco'):\n",
    "        plt.plot(eccoDs['soundSpeed'].T, -1*eccoDs.Z, c='k', label='ECCOv4r4', linewidth=3)\n",
    "    else:\n",
    "        plt.plot(soundSpD.values(), soundSpD.keys(), label=name, linewidth=2)\n",
    "    plt.ylim(D,0) \n",
    "    plt.xlabel(r'Sound Speed [$m/s$]')\n",
    "    plt.legend(fontsize=20)\n",
    "    \n",
    "plt.suptitle('01 May 2015')\n",
    "\n",
    "plt.savefig(\"../img/ecco+pioneer_15-05-01_TSSoundSp-profiles.png\")"
   ]
  },
  {
   "cell_type": "code",
   "execution_count": null,
   "metadata": {},
   "outputs": [],
   "source": [
    "%%time\n",
    "svelDList = []\n",
    "for ds01May15, zM in zip(ds01May15List, zMax):\n",
    "    binEdge = np.linspace( 0, np.ceil(zM), num=int(np.ceil(zM)+1) )\n",
    "    svelD = dict.fromkeys(binEdge, [])\n",
    "    dz = binEdge[1]-binEdge[0]\n",
    "    \n",
    "    for z in svelD:\n",
    "        tmpS = ds01May15['soundSpeed'].where((ds01May15.coords['depth'] >= z) & \\\n",
    "                                                (ds01May15.coords['depth'] < z+dz) )\n",
    "\n",
    "        svelD[z] = tmpS.mean('time').values\n",
    "        \n",
    "    svelDList.append(svelD)"
   ]
  },
  {
   "cell_type": "code",
   "execution_count": null,
   "metadata": {},
   "outputs": [],
   "source": [
    "plt.rcParams.update({'font.size':24})\n",
    "plt.figure(figsize=(11,15), dpi=360)\n",
    "for svelD,tempD, name in zip(svelDList,tempDList, pmNameList):\n",
    "    plt.subplot(1,2,1)\n",
    "    plt.plot(svelD.values(), svelD.keys(), label=name, linewidth=2)\n",
    "    plt.ylim(421,0)\n",
    "    plt.legend(fontsize=20)\n",
    "    plt.xlabel('Sound Speed [m/s]')\n",
    "    plt.ylabel('Depth [m]')\n",
    "    \n",
    "    plt.subplot(1,2,2)\n",
    "    plt.plot(tempD.values(), tempD.keys(), label=name, linewidth=2)\n",
    "    plt.ylim(421,0) \n",
    "    plt.xlabel(r'Temperature [$^\\circ C$]')\n",
    "    \n",
    "plt.suptitle('01 May 2015')\n",
    "#plt.savefig(\"../img/pioneer_15-05-01_cTprofiles.png\")"
   ]
  },
  {
   "cell_type": "markdown",
   "metadata": {},
   "source": [
    "<sub>Written by I. Escobar on 10 December 2020</sub>"
   ]
  }
 ],
 "metadata": {
  "kernelspec": {
   "display_name": "Python 3 (ipykernel)",
   "language": "python",
   "name": "python3"
  },
  "language_info": {
   "codemirror_mode": {
    "name": "ipython",
    "version": 3
   },
   "file_extension": ".py",
   "mimetype": "text/x-python",
   "name": "python",
   "nbconvert_exporter": "python",
   "pygments_lexer": "ipython3",
   "version": "3.10.6"
  }
 },
 "nbformat": 4,
 "nbformat_minor": 4
}

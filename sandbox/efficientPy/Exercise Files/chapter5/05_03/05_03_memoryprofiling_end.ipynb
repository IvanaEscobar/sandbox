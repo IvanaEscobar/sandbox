{
 "cells": [
  {
   "cell_type": "markdown",
   "metadata": {},
   "source": [
    "### Python module/package imports for this chapter"
   ]
  },
  {
   "cell_type": "code",
   "execution_count": 1,
   "metadata": {},
   "outputs": [],
   "source": [
    "import sys, math, collections, itertools, multiprocessing, gzip"
   ]
  },
  {
   "cell_type": "code",
   "execution_count": 2,
   "metadata": {},
   "outputs": [],
   "source": [
    "import numpy as np\n",
    "\n",
    "import matplotlib\n",
    "import matplotlib.pyplot as pp\n",
    "\n",
    "%matplotlib inline"
   ]
  },
  {
   "cell_type": "code",
   "execution_count": 3,
   "metadata": {},
   "outputs": [],
   "source": [
    "%load_ext line_profiler\n",
    "%load_ext memory_profiler"
   ]
  },
  {
   "cell_type": "markdown",
   "metadata": {},
   "source": [
    "## Profiling memory"
   ]
  },
  {
   "cell_type": "code",
   "execution_count": 4,
   "metadata": {},
   "outputs": [],
   "source": [
    "vector_list = [float(i) for i in range(100000)]"
   ]
  },
  {
   "cell_type": "code",
   "execution_count": 5,
   "metadata": {},
   "outputs": [],
   "source": [
    "vector_np = np.arange(0,100000,dtype='d')"
   ]
  },
  {
   "cell_type": "code",
   "execution_count": 6,
   "metadata": {},
   "outputs": [
    {
     "data": {
      "text/plain": [
       "24"
      ]
     },
     "execution_count": 6,
     "metadata": {},
     "output_type": "execute_result"
    }
   ],
   "source": [
    "sys.getsizeof(1.0)"
   ]
  },
  {
   "cell_type": "code",
   "execution_count": 7,
   "metadata": {},
   "outputs": [
    {
     "name": "stdout",
     "output_type": "stream",
     "text": [
      "Overwriting memory.py\n"
     ]
    }
   ],
   "source": [
    "%%file memory.py\n",
    "\n",
    "import numpy as np\n",
    "\n",
    "@profile\n",
    "def allocate():\n",
    "    vector_list = [float(i) for i in range(100000)]\n",
    "    vector_np = np.arange(0,100000,dtype='d')\n",
    "    \n",
    "allocate()"
   ]
  },
  {
   "cell_type": "code",
   "execution_count": 8,
   "metadata": {},
   "outputs": [
    {
     "name": "stdout",
     "output_type": "stream",
     "text": [
      "Filename: memory.py\r\n",
      "\r\n",
      "Line #    Mem usage    Increment   Line Contents\r\n",
      "================================================\r\n",
      "     4   53.992 MiB   53.992 MiB   @profile\r\n",
      "     5                             def allocate():\r\n",
      "     6   59.535 MiB    0.699 MiB       vector_list = [float(i) for i in range(100000)]\r\n",
      "     7   60.305 MiB    0.770 MiB       vector_np = np.arange(0,100000,dtype='d')\r\n",
      "\r\n",
      "\r\n"
     ]
    }
   ],
   "source": [
    "!python -m memory_profiler memory.py"
   ]
  },
  {
   "cell_type": "code",
   "execution_count": 9,
   "metadata": {},
   "outputs": [],
   "source": [
    "dict_list = [{'x': 1.0*i,'y': 2.5*i} for i in range(100000)]"
   ]
  },
  {
   "cell_type": "code",
   "execution_count": 10,
   "metadata": {},
   "outputs": [],
   "source": [
    "class xy_class(object):\n",
    "    def __init__(self,x,y):\n",
    "        self.x, self.y = x, y\n",
    "        \n",
    "class_list = [xy_class(1.0*i,2.5*i) for i in range(100000)]"
   ]
  },
  {
   "cell_type": "code",
   "execution_count": 11,
   "metadata": {},
   "outputs": [],
   "source": [
    "class xy_slots(object):\n",
    "    __slots__ = ['x','y']\n",
    "    \n",
    "    def __init__(self,x,y):\n",
    "        self.x, self.y = x, y\n",
    "        \n",
    "slots_list = [xy_slots(1.0*i,2.5*i) for i in range(100000)]"
   ]
  },
  {
   "cell_type": "code",
   "execution_count": 12,
   "metadata": {},
   "outputs": [],
   "source": [
    "xy_namedtuple = collections.namedtuple('xy',['x','y'])\n",
    "\n",
    "namedtuple_list = [xy_namedtuple(1.0*i,2.5*i) for i in range(100000)]"
   ]
  },
  {
   "cell_type": "code",
   "execution_count": 13,
   "metadata": {},
   "outputs": [],
   "source": [
    "tuple_list = [(1.0*i,2.5*i) for i in range(100000)]"
   ]
  },
  {
   "cell_type": "code",
   "execution_count": 14,
   "metadata": {},
   "outputs": [],
   "source": [
    "list_list = [[1.0*i,2.5*i] for i in range(100000)]"
   ]
  },
  {
   "cell_type": "code",
   "execution_count": 15,
   "metadata": {},
   "outputs": [],
   "source": [
    "record_np = np.fromiter(((1.0*i,2.5*i) for i in range(100000)),\n",
    "                        dtype=[('x','d'),('y','d')])"
   ]
  },
  {
   "cell_type": "code",
   "execution_count": 16,
   "metadata": {},
   "outputs": [
    {
     "name": "stdout",
     "output_type": "stream",
     "text": [
      "Overwriting memory2.py\n"
     ]
    }
   ],
   "source": [
    "%%file memory2.py\n",
    "\n",
    "import collections\n",
    "import numpy as np\n",
    "\n",
    "@profile\n",
    "def allocate():\n",
    "    dict_list = [{'x': 1.0*i,'y': 2.5*i} for i in range(100000)]\n",
    "\n",
    "    class xy_class(object):\n",
    "        def __init__(self,x,y):\n",
    "            self.x, self.y = x, y\n",
    "\n",
    "    class_list = [xy_class(1.0*i,2.5*i) for i in range(100000)]\n",
    "\n",
    "    class xy_slots(object):\n",
    "        __slots__ = ['x','y']\n",
    "\n",
    "        def __init__(self,x,y):\n",
    "            self.x, self.y = x, y\n",
    "\n",
    "    slots_list = [xy_slots(1.0*i,2.5*i) for i in range(100000)]\n",
    "\n",
    "    xy_namedtuple = collections.namedtuple('xy',['x','y'])\n",
    "\n",
    "    namedtuple_list = [xy_namedtuple(1.0*i,2.5*i) for i in range(100000)]\n",
    "\n",
    "    tuple_list = [(1.0*i,2.5*i) for i in range(100000)]\n",
    "\n",
    "    list_list = [[1.0*i,2.5*i] for i in range(100000)]\n",
    "\n",
    "    record_np = np.fromiter(((1.0*i,2.5*i) for i in range(100000)),\n",
    "                            dtype=[('x','d'),('y','d')])\n",
    "    \n",
    "allocate()"
   ]
  },
  {
   "cell_type": "code",
   "execution_count": 22,
   "metadata": {},
   "outputs": [
    {
     "name": "stdout",
     "output_type": "stream",
     "text": [
      "Filename: memory2.py\r\n",
      "\r\n",
      "Line #    Mem usage    Increment   Line Contents\r\n",
      "================================================\r\n",
      "     5   44.527 MiB    0.000 MiB   @profile\r\n",
      "     6                             def allocate():\r\n",
      "     7   76.242 MiB   31.715 MiB       dict_list = [{'x': 1.0*i,'y': 2.5*i} for i in range(100000)]\r\n",
      "     8                             \r\n",
      "     9   76.242 MiB    0.000 MiB       class xy_class(object):\r\n",
      "    10   95.941 MiB   19.699 MiB           def __init__(self,x,y):\r\n",
      "    11   95.941 MiB    0.000 MiB               self.x, self.y = x, y\r\n",
      "    12                             \r\n",
      "    13   95.941 MiB    0.000 MiB       class_list = [xy_class(1.0*i,2.5*i) for i in range(100000)]\r\n",
      "    14                             \r\n",
      "    15   95.945 MiB    0.004 MiB       class xy_slots(object):\r\n",
      "    16   95.941 MiB   -0.004 MiB           __slots__ = ['x','y']\r\n",
      "    17                             \r\n",
      "    18  106.773 MiB   10.832 MiB           def __init__(self,x,y):\r\n",
      "    19  106.773 MiB    0.000 MiB               self.x, self.y = x, y\r\n",
      "    20                             \r\n",
      "    21  106.773 MiB    0.000 MiB       slots_list = [xy_slots(1.0*i,2.5*i) for i in range(100000)]\r\n",
      "    22                             \r\n",
      "    23  106.859 MiB    0.086 MiB       xy_namedtuple = collections.namedtuple('xy',['x','y'])\r\n",
      "    24                             \r\n",
      "    25  119.551 MiB   12.691 MiB       namedtuple_list = [xy_namedtuple(1.0*i,2.5*i) for i in range(100000)]\r\n",
      "    26                             \r\n",
      "    27  130.461 MiB   10.910 MiB       tuple_list = [(1.0*i,2.5*i) for i in range(100000)]\r\n",
      "    28                             \r\n",
      "    29  144.340 MiB   13.879 MiB       list_list = [[1.0*i,2.5*i] for i in range(100000)]\r\n",
      "    30                             \r\n",
      "    31  145.457 MiB    1.117 MiB       record_np = np.fromiter(((1.0*i,2.5*i) for i in range(100000)),\r\n",
      "    32  145.457 MiB    0.000 MiB                               dtype=[('x','d'),('y','d')])\r\n",
      "\r\n",
      "\r\n"
     ]
    }
   ],
   "source": [
    "!python -m memory_profiler memory2.py"
   ]
  },
  {
   "cell_type": "code",
   "execution_count": null,
   "metadata": {
    "collapsed": true
   },
   "outputs": [],
   "source": []
  }
 ],
 "metadata": {
  "anaconda-cloud": {},
  "kernelspec": {
   "display_name": "Python 3",
   "language": "python",
   "name": "python3"
  },
  "language_info": {
   "codemirror_mode": {
    "name": "ipython",
    "version": 3
   },
   "file_extension": ".py",
   "mimetype": "text/x-python",
   "name": "python",
   "nbconvert_exporter": "python",
   "pygments_lexer": "ipython3",
   "version": "3.8.2"
  }
 },
 "nbformat": 4,
 "nbformat_minor": 1
}

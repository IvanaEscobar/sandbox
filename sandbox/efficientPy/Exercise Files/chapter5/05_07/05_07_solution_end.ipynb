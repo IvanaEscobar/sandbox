{
 "cells": [
  {
   "cell_type": "markdown",
   "metadata": {},
   "source": [
    "### Python module/package imports for this chapter"
   ]
  },
  {
   "cell_type": "code",
   "execution_count": 1,
   "metadata": {
    "collapsed": true
   },
   "outputs": [],
   "source": [
    "import sys, math, collections, itertools, multiprocessing, gzip"
   ]
  },
  {
   "cell_type": "code",
   "execution_count": 2,
   "metadata": {
    "collapsed": true
   },
   "outputs": [],
   "source": [
    "import numpy as np\n",
    "\n",
    "import matplotlib\n",
    "import matplotlib.pyplot as pp\n",
    "\n",
    "%matplotlib inline"
   ]
  },
  {
   "cell_type": "code",
   "execution_count": 3,
   "metadata": {
    "collapsed": true
   },
   "outputs": [],
   "source": [
    "%load_ext line_profiler\n",
    "%load_ext memory_profiler"
   ]
  },
  {
   "cell_type": "markdown",
   "metadata": {},
   "source": [
    "## Solution: parallel word search"
   ]
  },
  {
   "cell_type": "markdown",
   "metadata": {},
   "source": [
    "**March 2020 update**: with recent versions of Jupyter and `multiprocessing`, the solution as given in the video does not work because the parallel processes do not have access to the function `worker` and to the variables `words`, `target`, and `chunksize`. The simplest workaround is to collect the code in a separate script `wordsearch.py` (which we write out in the cell below), and to run it from the shell. When the `multiprocessing` Pool is created, it will automatically import the file `wordsearch` in every new process. Note that the code that initializes and runs the `Pool` is guarded by the clause `if __name__ == '__main__'`: this avoids recreating the Pool recursively."
   ]
  },
  {
   "cell_type": "code",
   "execution_count": 1,
   "metadata": {},
   "outputs": [
    {
     "name": "stdout",
     "output_type": "stream",
     "text": [
      "Overwriting wordsearch.py\n"
     ]
    }
   ],
   "source": [
    "%%file wordsearch.py\n",
    "import gzip\n",
    "import multiprocessing\n",
    "\n",
    "words = [line.strip() for line in gzip.open('words.gz','rt')]\n",
    "\n",
    "target = 'zygomaticum'\n",
    "\n",
    "chunksize = 16384\n",
    "\n",
    "def worker(i):\n",
    "    try:\n",
    "        return i + words[i:i+chunksize].index(target)\n",
    "    except ValueError:\n",
    "        return None\n",
    "    \n",
    "if __name__ == '__main__':\n",
    "    pool = multiprocessing.Pool(processes=4)\n",
    "    results = pool.map(worker,range(0,len(words),chunksize))\n",
    "    pool.close()\n",
    "    \n",
    "    print([r for r in results if r is not None])\n",
    "    print(words[235786])"
   ]
  },
  {
   "cell_type": "code",
   "execution_count": 2,
   "metadata": {},
   "outputs": [
    {
     "name": "stdout",
     "output_type": "stream",
     "text": [
      "[235786]\r\n",
      "zygomaticum\r\n"
     ]
    }
   ],
   "source": [
    "!python wordsearch.py"
   ]
  },
  {
   "cell_type": "code",
   "execution_count": null,
   "metadata": {},
   "outputs": [],
   "source": []
  }
 ],
 "metadata": {
  "anaconda-cloud": {},
  "kernelspec": {
   "display_name": "Python 3",
   "language": "python",
   "name": "python3"
  },
  "language_info": {
   "codemirror_mode": {
    "name": "ipython",
    "version": 3
   },
   "file_extension": ".py",
   "mimetype": "text/x-python",
   "name": "python",
   "nbconvert_exporter": "python",
   "pygments_lexer": "ipython3",
   "version": "3.8.2"
  }
 },
 "nbformat": 4,
 "nbformat_minor": 1
}

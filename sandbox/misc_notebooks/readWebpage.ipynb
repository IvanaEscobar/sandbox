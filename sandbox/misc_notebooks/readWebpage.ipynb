{
 "cells": [
  {
   "cell_type": "code",
   "execution_count": 4,
   "metadata": {},
   "outputs": [],
   "source": [
    "import requests"
   ]
  },
  {
   "cell_type": "code",
   "execution_count": 5,
   "metadata": {},
   "outputs": [
    {
     "name": "stdout",
     "output_type": "stream",
     "text": [
      "<html><head><title>XYZ data</title></head>\n",
      "<body bgcolor=ffffee text=000000 alink=ff0000>\n",
      "<h1 align=center><font color=ff0000>EXTRACT XYZ GRID - TOPOGRAPHY OR GRAVITY </h1></font><p>\n",
      "<left>Extract topography or gravity data from global 1-minute grids in ASCII XYZ-format. Latitude range is\n",
      "+/- 80.738.  Topography is V19.1 and Gravity is V28.1.<p>\n",
      "Note that odd values of topography (e.g., -2001m) are constrained by actual soundings while even values (e.g., -2000m) are predicted from gravity.  Therefore one can extract the locations of the ship sounding. <p>\n",
      "<center>EXAMPLE\n",
      "<br> -10.1\n",
      "<br>359.5 360\n",
      "<br> -13\n",
      "<br>(Any values between -360 and 360 are acceptable)\n",
      "</center><p>\n",
      "<hr>\n",
      "<center>Enter data window.<br><br>\n",
      "<form action=\"get_data.cgi\" method=\"post\">\n",
      "<table>\n",
      "<tr><td align=center><input type=text name=\"north\" size=4></td></tr>\n",
      "<tr><td align=center>north</td></tr>\n",
      "<tr><td align=center><valign=center><input type=text name=\"west\" size=4>west \n",
      "east<input type=text name=\"east\" size=4></td></tr>\n",
      "<tr><td align=center>south</td></tr>\n",
      "<tr><td align=center><input type=text name=\"south\" size=4></td></tr>\n",
      "</table>\n",
      "<table>\n",
      "<tr><td align=center width=100><input type=\"radio\" name=\"mag\" value=1> Topography</td>\n",
      "<td align=center width=100><input type=\"radio\" name=\"mag\" value=0.1> Gravity</td>\n",
      "</table>\n",
      "<table>\n",
      "<tr><td align=center width=300><input type=submit value=\"get data\"></td></tr>\n",
      "</table>\n",
      "</form><align = left>Note the program cannot span 0 longitude. \n",
      "<br>Also, these files can get quite large, so you may have to divide the area up into smaller chunks.</center>\n",
      "<hr>\n",
      "<left> Topography References: <p>\n",
      "Smith, W. H. F., and D. T. Sandwell, Global seafloor topography from satellite altimetry and ship depth soundings, Science, v. 277, p. 1957-1962, 26 Sept., 1997. <p>\n",
      "Gravity References: <p>\n",
      "Sandwell, D. T., R. D. Müller, W. H. F. Smith, E. Garcia, R. Francis, New global marine gravity model from CryoSat-2 and Jason-1 reveals buried tectonic structure, Science, Vol. 346, no. 6205, pp. 65-67, doi: 10.1126/science.1258213, 2014. <p>\n",
      "Sandwell, D. T., and W. H. F. Smith, Global marine gravity from retracked Geosat and ERS-1 altimetry: Ridge Segmentation versus spreading rate, J. Geophys. Res., 114, B01411, doi:10.1029/2008JB006008, 2009. <p>\n",
      "Sandwell, D. T., E. Garcia, K. Soofi, P. Wessel, and W. H. F. Smith, Towards 1 mGal Global Marine Gravity from CryoSat-2, Envisat, and Jason-1, The Leading Edge, 32(8), 892-899. doi: 10.1190/tle32080892.1, 2013 <p>\n",
      "</body></html>\n",
      "\n"
     ]
    }
   ],
   "source": [
    "url = 'https://topex.ucsd.edu/cgi-bin/get_data.cgi'\n",
    "data = requests.get(url)\n",
    "\n",
    "print(data.text) "
   ]
  }
 ],
 "metadata": {
  "kernelspec": {
   "display_name": "swotDev",
   "language": "python",
   "name": "swotdev"
  },
  "language_info": {
   "codemirror_mode": {
    "name": "ipython",
    "version": 3
   },
   "file_extension": ".py",
   "mimetype": "text/x-python",
   "name": "python",
   "nbconvert_exporter": "python",
   "pygments_lexer": "ipython3",
   "version": "3.7.6"
  }
 },
 "nbformat": 4,
 "nbformat_minor": 4
}

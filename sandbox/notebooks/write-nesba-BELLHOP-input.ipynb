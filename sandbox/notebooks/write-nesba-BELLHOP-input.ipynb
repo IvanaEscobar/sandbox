{
 "cells": [
  {
   "cell_type": "markdown",
   "metadata": {},
   "source": [
    "# NESBA acoustic telescope locations\n",
    "\n",
    "finding range and depth positions of AT and TM4"
   ]
  },
  {
   "cell_type": "code",
   "execution_count": 1,
   "metadata": {},
   "outputs": [],
   "source": [
    "import sandbox as sb\n",
    "import matplotlib.pyplot as plt\n",
    "import numpy as np\n",
    "%matplotlib inline\n",
    "import os"
   ]
  },
  {
   "cell_type": "code",
   "execution_count": 2,
   "metadata": {},
   "outputs": [],
   "source": [
    "import xarray as xr\n",
    "import cartopy.crs as ccrs\n",
    "import cartopy"
   ]
  },
  {
   "cell_type": "markdown",
   "metadata": {},
   "source": [
    "### Load netcdf file"
   ]
  },
  {
   "cell_type": "code",
   "execution_count": 3,
   "metadata": {},
   "outputs": [],
   "source": [
    "filePath = '/Users/ivanaescobar/work/sandbox/at_2020_11_4/Bellhop/nesba/'\n",
    "runName = 'nesba-tm4'\n",
    "if (os.uname()[0] == 'Linux'):\n",
    "    filePath = '/home/ivana/regionalgcm/bellhop-nesba/'\n",
    "    runName = 'nesba-tm4_sverdrup'"
   ]
  },
  {
   "cell_type": "code",
   "execution_count": 4,
   "metadata": {},
   "outputs": [],
   "source": [
    "ds = xr.open_dataset(filePath + runName + '.nc')\n",
    "dsCTD = xr.open_dataset(filePath + runName + '_CTD.nc')"
   ]
  },
  {
   "cell_type": "code",
   "execution_count": 5,
   "metadata": {},
   "outputs": [
    {
     "data": {
      "text/html": [
       "<div><svg style=\"position: absolute; width: 0; height: 0; overflow: hidden\">\n",
       "<defs>\n",
       "<symbol id=\"icon-database\" viewBox=\"0 0 32 32\">\n",
       "<path d=\"M16 0c-8.837 0-16 2.239-16 5v4c0 2.761 7.163 5 16 5s16-2.239 16-5v-4c0-2.761-7.163-5-16-5z\"></path>\n",
       "<path d=\"M16 17c-8.837 0-16-2.239-16-5v6c0 2.761 7.163 5 16 5s16-2.239 16-5v-6c0 2.761-7.163 5-16 5z\"></path>\n",
       "<path d=\"M16 26c-8.837 0-16-2.239-16-5v6c0 2.761 7.163 5 16 5s16-2.239 16-5v-6c0 2.761-7.163 5-16 5z\"></path>\n",
       "</symbol>\n",
       "<symbol id=\"icon-file-text2\" viewBox=\"0 0 32 32\">\n",
       "<path d=\"M28.681 7.159c-0.694-0.947-1.662-2.053-2.724-3.116s-2.169-2.030-3.116-2.724c-1.612-1.182-2.393-1.319-2.841-1.319h-15.5c-1.378 0-2.5 1.121-2.5 2.5v27c0 1.378 1.122 2.5 2.5 2.5h23c1.378 0 2.5-1.122 2.5-2.5v-19.5c0-0.448-0.137-1.23-1.319-2.841zM24.543 5.457c0.959 0.959 1.712 1.825 2.268 2.543h-4.811v-4.811c0.718 0.556 1.584 1.309 2.543 2.268zM28 29.5c0 0.271-0.229 0.5-0.5 0.5h-23c-0.271 0-0.5-0.229-0.5-0.5v-27c0-0.271 0.229-0.5 0.5-0.5 0 0 15.499-0 15.5 0v7c0 0.552 0.448 1 1 1h7v19.5z\"></path>\n",
       "<path d=\"M23 26h-14c-0.552 0-1-0.448-1-1s0.448-1 1-1h14c0.552 0 1 0.448 1 1s-0.448 1-1 1z\"></path>\n",
       "<path d=\"M23 22h-14c-0.552 0-1-0.448-1-1s0.448-1 1-1h14c0.552 0 1 0.448 1 1s-0.448 1-1 1z\"></path>\n",
       "<path d=\"M23 18h-14c-0.552 0-1-0.448-1-1s0.448-1 1-1h14c0.552 0 1 0.448 1 1s-0.448 1-1 1z\"></path>\n",
       "</symbol>\n",
       "</defs>\n",
       "</svg>\n",
       "<style>/* CSS stylesheet for displaying xarray objects in jupyterlab.\n",
       " *\n",
       " */\n",
       "\n",
       ":root {\n",
       "  --xr-font-color0: var(--jp-content-font-color0, rgba(0, 0, 0, 1));\n",
       "  --xr-font-color2: var(--jp-content-font-color2, rgba(0, 0, 0, 0.54));\n",
       "  --xr-font-color3: var(--jp-content-font-color3, rgba(0, 0, 0, 0.38));\n",
       "  --xr-border-color: var(--jp-border-color2, #e0e0e0);\n",
       "  --xr-disabled-color: var(--jp-layout-color3, #bdbdbd);\n",
       "  --xr-background-color: var(--jp-layout-color0, white);\n",
       "  --xr-background-color-row-even: var(--jp-layout-color1, white);\n",
       "  --xr-background-color-row-odd: var(--jp-layout-color2, #eeeeee);\n",
       "}\n",
       "\n",
       "html[theme=dark],\n",
       "body.vscode-dark {\n",
       "  --xr-font-color0: rgba(255, 255, 255, 1);\n",
       "  --xr-font-color2: rgba(255, 255, 255, 0.54);\n",
       "  --xr-font-color3: rgba(255, 255, 255, 0.38);\n",
       "  --xr-border-color: #1F1F1F;\n",
       "  --xr-disabled-color: #515151;\n",
       "  --xr-background-color: #111111;\n",
       "  --xr-background-color-row-even: #111111;\n",
       "  --xr-background-color-row-odd: #313131;\n",
       "}\n",
       "\n",
       ".xr-wrap {\n",
       "  display: block;\n",
       "  min-width: 300px;\n",
       "  max-width: 700px;\n",
       "}\n",
       "\n",
       ".xr-text-repr-fallback {\n",
       "  /* fallback to plain text repr when CSS is not injected (untrusted notebook) */\n",
       "  display: none;\n",
       "}\n",
       "\n",
       ".xr-header {\n",
       "  padding-top: 6px;\n",
       "  padding-bottom: 6px;\n",
       "  margin-bottom: 4px;\n",
       "  border-bottom: solid 1px var(--xr-border-color);\n",
       "}\n",
       "\n",
       ".xr-header > div,\n",
       ".xr-header > ul {\n",
       "  display: inline;\n",
       "  margin-top: 0;\n",
       "  margin-bottom: 0;\n",
       "}\n",
       "\n",
       ".xr-obj-type,\n",
       ".xr-array-name {\n",
       "  margin-left: 2px;\n",
       "  margin-right: 10px;\n",
       "}\n",
       "\n",
       ".xr-obj-type {\n",
       "  color: var(--xr-font-color2);\n",
       "}\n",
       "\n",
       ".xr-sections {\n",
       "  padding-left: 0 !important;\n",
       "  display: grid;\n",
       "  grid-template-columns: 150px auto auto 1fr 20px 20px;\n",
       "}\n",
       "\n",
       ".xr-section-item {\n",
       "  display: contents;\n",
       "}\n",
       "\n",
       ".xr-section-item input {\n",
       "  display: none;\n",
       "}\n",
       "\n",
       ".xr-section-item input + label {\n",
       "  color: var(--xr-disabled-color);\n",
       "}\n",
       "\n",
       ".xr-section-item input:enabled + label {\n",
       "  cursor: pointer;\n",
       "  color: var(--xr-font-color2);\n",
       "}\n",
       "\n",
       ".xr-section-item input:enabled + label:hover {\n",
       "  color: var(--xr-font-color0);\n",
       "}\n",
       "\n",
       ".xr-section-summary {\n",
       "  grid-column: 1;\n",
       "  color: var(--xr-font-color2);\n",
       "  font-weight: 500;\n",
       "}\n",
       "\n",
       ".xr-section-summary > span {\n",
       "  display: inline-block;\n",
       "  padding-left: 0.5em;\n",
       "}\n",
       "\n",
       ".xr-section-summary-in:disabled + label {\n",
       "  color: var(--xr-font-color2);\n",
       "}\n",
       "\n",
       ".xr-section-summary-in + label:before {\n",
       "  display: inline-block;\n",
       "  content: '►';\n",
       "  font-size: 11px;\n",
       "  width: 15px;\n",
       "  text-align: center;\n",
       "}\n",
       "\n",
       ".xr-section-summary-in:disabled + label:before {\n",
       "  color: var(--xr-disabled-color);\n",
       "}\n",
       "\n",
       ".xr-section-summary-in:checked + label:before {\n",
       "  content: '▼';\n",
       "}\n",
       "\n",
       ".xr-section-summary-in:checked + label > span {\n",
       "  display: none;\n",
       "}\n",
       "\n",
       ".xr-section-summary,\n",
       ".xr-section-inline-details {\n",
       "  padding-top: 4px;\n",
       "  padding-bottom: 4px;\n",
       "}\n",
       "\n",
       ".xr-section-inline-details {\n",
       "  grid-column: 2 / -1;\n",
       "}\n",
       "\n",
       ".xr-section-details {\n",
       "  display: none;\n",
       "  grid-column: 1 / -1;\n",
       "  margin-bottom: 5px;\n",
       "}\n",
       "\n",
       ".xr-section-summary-in:checked ~ .xr-section-details {\n",
       "  display: contents;\n",
       "}\n",
       "\n",
       ".xr-array-wrap {\n",
       "  grid-column: 1 / -1;\n",
       "  display: grid;\n",
       "  grid-template-columns: 20px auto;\n",
       "}\n",
       "\n",
       ".xr-array-wrap > label {\n",
       "  grid-column: 1;\n",
       "  vertical-align: top;\n",
       "}\n",
       "\n",
       ".xr-preview {\n",
       "  color: var(--xr-font-color3);\n",
       "}\n",
       "\n",
       ".xr-array-preview,\n",
       ".xr-array-data {\n",
       "  padding: 0 5px !important;\n",
       "  grid-column: 2;\n",
       "}\n",
       "\n",
       ".xr-array-data,\n",
       ".xr-array-in:checked ~ .xr-array-preview {\n",
       "  display: none;\n",
       "}\n",
       "\n",
       ".xr-array-in:checked ~ .xr-array-data,\n",
       ".xr-array-preview {\n",
       "  display: inline-block;\n",
       "}\n",
       "\n",
       ".xr-dim-list {\n",
       "  display: inline-block !important;\n",
       "  list-style: none;\n",
       "  padding: 0 !important;\n",
       "  margin: 0;\n",
       "}\n",
       "\n",
       ".xr-dim-list li {\n",
       "  display: inline-block;\n",
       "  padding: 0;\n",
       "  margin: 0;\n",
       "}\n",
       "\n",
       ".xr-dim-list:before {\n",
       "  content: '(';\n",
       "}\n",
       "\n",
       ".xr-dim-list:after {\n",
       "  content: ')';\n",
       "}\n",
       "\n",
       ".xr-dim-list li:not(:last-child):after {\n",
       "  content: ',';\n",
       "  padding-right: 5px;\n",
       "}\n",
       "\n",
       ".xr-has-index {\n",
       "  font-weight: bold;\n",
       "}\n",
       "\n",
       ".xr-var-list,\n",
       ".xr-var-item {\n",
       "  display: contents;\n",
       "}\n",
       "\n",
       ".xr-var-item > div,\n",
       ".xr-var-item label,\n",
       ".xr-var-item > .xr-var-name span {\n",
       "  background-color: var(--xr-background-color-row-even);\n",
       "  margin-bottom: 0;\n",
       "}\n",
       "\n",
       ".xr-var-item > .xr-var-name:hover span {\n",
       "  padding-right: 5px;\n",
       "}\n",
       "\n",
       ".xr-var-list > li:nth-child(odd) > div,\n",
       ".xr-var-list > li:nth-child(odd) > label,\n",
       ".xr-var-list > li:nth-child(odd) > .xr-var-name span {\n",
       "  background-color: var(--xr-background-color-row-odd);\n",
       "}\n",
       "\n",
       ".xr-var-name {\n",
       "  grid-column: 1;\n",
       "}\n",
       "\n",
       ".xr-var-dims {\n",
       "  grid-column: 2;\n",
       "}\n",
       "\n",
       ".xr-var-dtype {\n",
       "  grid-column: 3;\n",
       "  text-align: right;\n",
       "  color: var(--xr-font-color2);\n",
       "}\n",
       "\n",
       ".xr-var-preview {\n",
       "  grid-column: 4;\n",
       "}\n",
       "\n",
       ".xr-var-name,\n",
       ".xr-var-dims,\n",
       ".xr-var-dtype,\n",
       ".xr-preview,\n",
       ".xr-attrs dt {\n",
       "  white-space: nowrap;\n",
       "  overflow: hidden;\n",
       "  text-overflow: ellipsis;\n",
       "  padding-right: 10px;\n",
       "}\n",
       "\n",
       ".xr-var-name:hover,\n",
       ".xr-var-dims:hover,\n",
       ".xr-var-dtype:hover,\n",
       ".xr-attrs dt:hover {\n",
       "  overflow: visible;\n",
       "  width: auto;\n",
       "  z-index: 1;\n",
       "}\n",
       "\n",
       ".xr-var-attrs,\n",
       ".xr-var-data {\n",
       "  display: none;\n",
       "  background-color: var(--xr-background-color) !important;\n",
       "  padding-bottom: 5px !important;\n",
       "}\n",
       "\n",
       ".xr-var-attrs-in:checked ~ .xr-var-attrs,\n",
       ".xr-var-data-in:checked ~ .xr-var-data {\n",
       "  display: block;\n",
       "}\n",
       "\n",
       ".xr-var-data > table {\n",
       "  float: right;\n",
       "}\n",
       "\n",
       ".xr-var-name span,\n",
       ".xr-var-data,\n",
       ".xr-attrs {\n",
       "  padding-left: 25px !important;\n",
       "}\n",
       "\n",
       ".xr-attrs,\n",
       ".xr-var-attrs,\n",
       ".xr-var-data {\n",
       "  grid-column: 1 / -1;\n",
       "}\n",
       "\n",
       "dl.xr-attrs {\n",
       "  padding: 0;\n",
       "  margin: 0;\n",
       "  display: grid;\n",
       "  grid-template-columns: 125px auto;\n",
       "}\n",
       "\n",
       ".xr-attrs dt, dd {\n",
       "  padding: 0;\n",
       "  margin: 0;\n",
       "  float: left;\n",
       "  padding-right: 10px;\n",
       "  width: auto;\n",
       "}\n",
       "\n",
       ".xr-attrs dt {\n",
       "  font-weight: normal;\n",
       "  grid-column: 1;\n",
       "}\n",
       "\n",
       ".xr-attrs dt:hover span {\n",
       "  display: inline-block;\n",
       "  background: var(--xr-background-color);\n",
       "  padding-right: 10px;\n",
       "}\n",
       "\n",
       ".xr-attrs dd {\n",
       "  grid-column: 2;\n",
       "  white-space: pre-wrap;\n",
       "  word-break: break-all;\n",
       "}\n",
       "\n",
       ".xr-icon-database,\n",
       ".xr-icon-file-text2 {\n",
       "  display: inline-block;\n",
       "  vertical-align: middle;\n",
       "  width: 1em;\n",
       "  height: 1.5em !important;\n",
       "  stroke-width: 0;\n",
       "  stroke: currentColor;\n",
       "  fill: currentColor;\n",
       "}\n",
       "</style><pre class='xr-text-repr-fallback'>&lt;xarray.Dataset&gt;\n",
       "Dimensions:  (r: 41, z: 1001)\n",
       "Coordinates:\n",
       "  * r        (r) int64 0 1 2 3 4 5 6 7 8 9 10 ... 31 32 33 34 35 36 37 38 39 40\n",
       "  * z        (z) int64 0 1 2 3 4 5 6 7 8 ... 993 994 995 996 997 998 999 1000\n",
       "Data variables:\n",
       "    range    (r) float64 0.0 1.028 2.056 3.084 4.112 ... 38.25 39.28 40.3 41.32\n",
       "    depth    (r) float64 872.3 814.3 759.3 695.3 ... 130.1 128.5 127.1 125.7\n",
       "    lat      (r) float64 39.85 39.86 39.87 39.88 ... 40.19 40.2 40.21 40.22\n",
       "    lon      (r) float64 -70.89 -70.88 -70.88 -70.88 ... -70.91 -70.91 -70.91\n",
       "    salt     (z, r) float64 nan nan nan nan nan nan ... nan nan nan nan nan nan\n",
       "    temp     (z, r) float64 nan nan nan nan nan nan ... nan nan nan nan nan nan\n",
       "    ss       (z, r) float64 nan nan nan nan nan nan ... nan nan nan nan nan nan</pre><div class='xr-wrap' hidden><div class='xr-header'><div class='xr-obj-type'>xarray.Dataset</div></div><ul class='xr-sections'><li class='xr-section-item'><input id='section-b66424bf-ac3e-41fe-b386-12dba9ccb171' class='xr-section-summary-in' type='checkbox' disabled ><label for='section-b66424bf-ac3e-41fe-b386-12dba9ccb171' class='xr-section-summary'  title='Expand/collapse section'>Dimensions:</label><div class='xr-section-inline-details'><ul class='xr-dim-list'><li><span class='xr-has-index'>r</span>: 41</li><li><span class='xr-has-index'>z</span>: 1001</li></ul></div><div class='xr-section-details'></div></li><li class='xr-section-item'><input id='section-8fa3fd4e-f835-4794-842b-85b1523f82f7' class='xr-section-summary-in' type='checkbox'  checked><label for='section-8fa3fd4e-f835-4794-842b-85b1523f82f7' class='xr-section-summary' >Coordinates: <span>(2)</span></label><div class='xr-section-inline-details'></div><div class='xr-section-details'><ul class='xr-var-list'><li class='xr-var-item'><div class='xr-var-name'><span class='xr-has-index'>r</span></div><div class='xr-var-dims'>(r)</div><div class='xr-var-dtype'>int64</div><div class='xr-var-preview xr-preview'>0 1 2 3 4 5 6 ... 35 36 37 38 39 40</div><input id='attrs-23678b42-b156-4aa1-8dd9-97d067f241cb' class='xr-var-attrs-in' type='checkbox' disabled><label for='attrs-23678b42-b156-4aa1-8dd9-97d067f241cb' title='Show/Hide attributes'><svg class='icon xr-icon-file-text2'><use xlink:href='#icon-file-text2'></use></svg></label><input id='data-780486dc-25d2-45a2-adf4-97fc1ca4402c' class='xr-var-data-in' type='checkbox'><label for='data-780486dc-25d2-45a2-adf4-97fc1ca4402c' title='Show/Hide data repr'><svg class='icon xr-icon-database'><use xlink:href='#icon-database'></use></svg></label><div class='xr-var-attrs'><dl class='xr-attrs'></dl></div><div class='xr-var-data'><pre>array([ 0,  1,  2,  3,  4,  5,  6,  7,  8,  9, 10, 11, 12, 13, 14, 15, 16, 17,\n",
       "       18, 19, 20, 21, 22, 23, 24, 25, 26, 27, 28, 29, 30, 31, 32, 33, 34, 35,\n",
       "       36, 37, 38, 39, 40])</pre></div></li><li class='xr-var-item'><div class='xr-var-name'><span class='xr-has-index'>z</span></div><div class='xr-var-dims'>(z)</div><div class='xr-var-dtype'>int64</div><div class='xr-var-preview xr-preview'>0 1 2 3 4 ... 996 997 998 999 1000</div><input id='attrs-bb69bef0-b0aa-46a4-8535-237ffa4be402' class='xr-var-attrs-in' type='checkbox' ><label for='attrs-bb69bef0-b0aa-46a4-8535-237ffa4be402' title='Show/Hide attributes'><svg class='icon xr-icon-file-text2'><use xlink:href='#icon-file-text2'></use></svg></label><input id='data-1611b8b7-c6b8-41fd-a693-d45add59baed' class='xr-var-data-in' type='checkbox'><label for='data-1611b8b7-c6b8-41fd-a693-d45add59baed' title='Show/Hide data repr'><svg class='icon xr-icon-database'><use xlink:href='#icon-database'></use></svg></label><div class='xr-var-attrs'><dl class='xr-attrs'><dt><span>long_name :</span></dt><dd>depth</dd><dt><span>unit :</span></dt><dd>m</dd></dl></div><div class='xr-var-data'><pre>array([   0,    1,    2, ...,  998,  999, 1000])</pre></div></li></ul></div></li><li class='xr-section-item'><input id='section-5c517f16-a7f4-4b5f-8787-581e4c54442d' class='xr-section-summary-in' type='checkbox'  checked><label for='section-5c517f16-a7f4-4b5f-8787-581e4c54442d' class='xr-section-summary' >Data variables: <span>(7)</span></label><div class='xr-section-inline-details'></div><div class='xr-section-details'><ul class='xr-var-list'><li class='xr-var-item'><div class='xr-var-name'><span>range</span></div><div class='xr-var-dims'>(r)</div><div class='xr-var-dtype'>float64</div><div class='xr-var-preview xr-preview'>...</div><input id='attrs-faafc1c1-2c3f-453a-ac88-5bf3f75069fc' class='xr-var-attrs-in' type='checkbox' ><label for='attrs-faafc1c1-2c3f-453a-ac88-5bf3f75069fc' title='Show/Hide attributes'><svg class='icon xr-icon-file-text2'><use xlink:href='#icon-file-text2'></use></svg></label><input id='data-85fae622-aabd-45e3-b3f7-b61a4267b094' class='xr-var-data-in' type='checkbox'><label for='data-85fae622-aabd-45e3-b3f7-b61a4267b094' title='Show/Hide data repr'><svg class='icon xr-icon-database'><use xlink:href='#icon-database'></use></svg></label><div class='xr-var-attrs'><dl class='xr-attrs'><dt><span>long_name :</span></dt><dd>range</dd><dt><span>unit :</span></dt><dd>km</dd></dl></div><div class='xr-var-data'><pre>array([ 0.      ,  1.028222,  2.056373,  3.084453,  4.112055,  5.13488 ,\n",
       "        6.157705,  7.180532,  8.203324,  9.226077, 10.248831, 11.271927,\n",
       "       12.301135, 13.33024 , 14.359243, 15.390253, 16.427994, 17.465476,\n",
       "       18.5027  , 19.544329, 20.58843 , 21.632136, 22.664496, 23.694439,\n",
       "       24.724242, 25.753907, 26.783432, 27.812819, 28.842068, 29.871179,\n",
       "       30.909604, 31.971244, 33.032005, 34.086548, 35.132275, 36.177451,\n",
       "       37.222079, 38.252856, 39.276854, 40.300824, 41.324765])</pre></div></li><li class='xr-var-item'><div class='xr-var-name'><span>depth</span></div><div class='xr-var-dims'>(r)</div><div class='xr-var-dtype'>float64</div><div class='xr-var-preview xr-preview'>...</div><input id='attrs-ff5773c1-bb5e-499f-be9c-5c4e40c52431' class='xr-var-attrs-in' type='checkbox' ><label for='attrs-ff5773c1-bb5e-499f-be9c-5c4e40c52431' title='Show/Hide attributes'><svg class='icon xr-icon-file-text2'><use xlink:href='#icon-file-text2'></use></svg></label><input id='data-f64514af-41b0-4ecd-b93a-6da80b5eff2a' class='xr-var-data-in' type='checkbox'><label for='data-f64514af-41b0-4ecd-b93a-6da80b5eff2a' title='Show/Hide data repr'><svg class='icon xr-icon-database'><use xlink:href='#icon-database'></use></svg></label><div class='xr-var-attrs'><dl class='xr-attrs'><dt><span>long_name :</span></dt><dd>maximum depth</dd><dt><span>unit :</span></dt><dd>m</dd></dl></div><div class='xr-var-data'><pre>array([872.306667, 814.285143, 759.290286, 695.28219 , 648.044134, 603.89386 ,\n",
       "       564.748982, 537.740158, 515.170275, 489.650608, 460.15    , 426.312952,\n",
       "       398.631619, 374.715286, 347.545878, 323.726735, 299.907592, 278.019061,\n",
       "       258.685633, 239.35975 , 222.623846, 207.366378, 191.446667, 179.840573,\n",
       "       168.990479, 158.536616, 153.33193 , 147.815445, 143.699694, 142.094137,\n",
       "       140.420645, 138.742602, 137.303484, 135.940938, 134.578693, 133.216449,\n",
       "       131.779538, 130.084454, 128.484929, 127.089131, 125.693333])</pre></div></li><li class='xr-var-item'><div class='xr-var-name'><span>lat</span></div><div class='xr-var-dims'>(r)</div><div class='xr-var-dtype'>float64</div><div class='xr-var-preview xr-preview'>...</div><input id='attrs-7da0322c-af14-491a-b4ed-af0ca4edf49d' class='xr-var-attrs-in' type='checkbox' disabled><label for='attrs-7da0322c-af14-491a-b4ed-af0ca4edf49d' title='Show/Hide attributes'><svg class='icon xr-icon-file-text2'><use xlink:href='#icon-file-text2'></use></svg></label><input id='data-0fca3272-ba05-4146-b1f3-4a9800c51d3a' class='xr-var-data-in' type='checkbox'><label for='data-0fca3272-ba05-4146-b1f3-4a9800c51d3a' title='Show/Hide data repr'><svg class='icon xr-icon-database'><use xlink:href='#icon-database'></use></svg></label><div class='xr-var-attrs'><dl class='xr-attrs'></dl></div><div class='xr-var-data'><pre>array([39.851333, 39.860492, 39.86965 , 39.878808, 39.887967, 39.897125,\n",
       "       39.906283, 39.915442, 39.9246  , 39.933758, 39.942917, 39.952075,\n",
       "       39.961233, 39.970392, 39.97955 , 39.988708, 39.997867, 40.007025,\n",
       "       40.016183, 40.025342, 40.0345  , 40.043658, 40.052817, 40.061975,\n",
       "       40.071133, 40.080292, 40.08945 , 40.098608, 40.107767, 40.116925,\n",
       "       40.126083, 40.135242, 40.1444  , 40.153558, 40.162717, 40.171875,\n",
       "       40.181033, 40.190192, 40.19935 , 40.208508, 40.217667])</pre></div></li><li class='xr-var-item'><div class='xr-var-name'><span>lon</span></div><div class='xr-var-dims'>(r)</div><div class='xr-var-dtype'>float64</div><div class='xr-var-preview xr-preview'>...</div><input id='attrs-fba947c2-8c2e-4f3a-86cc-926f369e132e' class='xr-var-attrs-in' type='checkbox' disabled><label for='attrs-fba947c2-8c2e-4f3a-86cc-926f369e132e' title='Show/Hide attributes'><svg class='icon xr-icon-file-text2'><use xlink:href='#icon-file-text2'></use></svg></label><input id='data-49f61453-5d1e-4e3f-a9b8-3f37da89219b' class='xr-var-data-in' type='checkbox'><label for='data-49f61453-5d1e-4e3f-a9b8-3f37da89219b' title='Show/Hide data repr'><svg class='icon xr-icon-database'><use xlink:href='#icon-database'></use></svg></label><div class='xr-var-attrs'><dl class='xr-attrs'></dl></div><div class='xr-var-data'><pre>array([-70.885   , -70.883505, -70.88201 , -70.880514, -70.878148, -70.874643,\n",
       "       -70.871137, -70.867632, -70.86362 , -70.85931 , -70.855   , -70.852132,\n",
       "       -70.854188, -70.856244, -70.8583  , -70.860356, -70.862412, -70.864468,\n",
       "       -70.866524, -70.868769, -70.871763, -70.874757, -70.877583, -70.880115,\n",
       "       -70.882646, -70.885177, -70.887229, -70.889113, -70.890997, -70.892882,\n",
       "       -70.8942  , -70.89548 , -70.89676 , -70.898045, -70.899334, -70.900622,\n",
       "       -70.901911, -70.903618, -70.905357, -70.907095, -70.908833])</pre></div></li><li class='xr-var-item'><div class='xr-var-name'><span>salt</span></div><div class='xr-var-dims'>(z, r)</div><div class='xr-var-dtype'>float64</div><div class='xr-var-preview xr-preview'>...</div><input id='attrs-e2aee733-7522-4ff4-8c06-f318d709a1b8' class='xr-var-attrs-in' type='checkbox' disabled><label for='attrs-e2aee733-7522-4ff4-8c06-f318d709a1b8' title='Show/Hide attributes'><svg class='icon xr-icon-file-text2'><use xlink:href='#icon-file-text2'></use></svg></label><input id='data-1fd4b548-3f16-4e67-b51b-eca4ea54404e' class='xr-var-data-in' type='checkbox'><label for='data-1fd4b548-3f16-4e67-b51b-eca4ea54404e' title='Show/Hide data repr'><svg class='icon xr-icon-database'><use xlink:href='#icon-database'></use></svg></label><div class='xr-var-attrs'><dl class='xr-attrs'></dl></div><div class='xr-var-data'><pre>array([[nan, nan, nan, ..., nan, nan, nan],\n",
       "       [nan, nan, nan, ..., nan, nan, nan],\n",
       "       [nan, nan, nan, ..., nan, nan, nan],\n",
       "       ...,\n",
       "       [nan, nan, nan, ..., nan, nan, nan],\n",
       "       [nan, nan, nan, ..., nan, nan, nan],\n",
       "       [nan, nan, nan, ..., nan, nan, nan]])</pre></div></li><li class='xr-var-item'><div class='xr-var-name'><span>temp</span></div><div class='xr-var-dims'>(z, r)</div><div class='xr-var-dtype'>float64</div><div class='xr-var-preview xr-preview'>...</div><input id='attrs-24b6ce31-bb26-4eca-afe2-bee32ca85553' class='xr-var-attrs-in' type='checkbox' disabled><label for='attrs-24b6ce31-bb26-4eca-afe2-bee32ca85553' title='Show/Hide attributes'><svg class='icon xr-icon-file-text2'><use xlink:href='#icon-file-text2'></use></svg></label><input id='data-c4277a7e-b229-4f0c-ad44-c2ebd3eaaecd' class='xr-var-data-in' type='checkbox'><label for='data-c4277a7e-b229-4f0c-ad44-c2ebd3eaaecd' title='Show/Hide data repr'><svg class='icon xr-icon-database'><use xlink:href='#icon-database'></use></svg></label><div class='xr-var-attrs'><dl class='xr-attrs'></dl></div><div class='xr-var-data'><pre>array([[nan, nan, nan, ..., nan, nan, nan],\n",
       "       [nan, nan, nan, ..., nan, nan, nan],\n",
       "       [nan, nan, nan, ..., nan, nan, nan],\n",
       "       ...,\n",
       "       [nan, nan, nan, ..., nan, nan, nan],\n",
       "       [nan, nan, nan, ..., nan, nan, nan],\n",
       "       [nan, nan, nan, ..., nan, nan, nan]])</pre></div></li><li class='xr-var-item'><div class='xr-var-name'><span>ss</span></div><div class='xr-var-dims'>(z, r)</div><div class='xr-var-dtype'>float64</div><div class='xr-var-preview xr-preview'>...</div><input id='attrs-cb0aaf5a-b864-4c3a-a22d-23e576fc1b59' class='xr-var-attrs-in' type='checkbox' ><label for='attrs-cb0aaf5a-b864-4c3a-a22d-23e576fc1b59' title='Show/Hide attributes'><svg class='icon xr-icon-file-text2'><use xlink:href='#icon-file-text2'></use></svg></label><input id='data-e0d8c0f1-3f3d-4554-9e2a-ce9c76657fd9' class='xr-var-data-in' type='checkbox'><label for='data-e0d8c0f1-3f3d-4554-9e2a-ce9c76657fd9' title='Show/Hide data repr'><svg class='icon xr-icon-database'><use xlink:href='#icon-database'></use></svg></label><div class='xr-var-attrs'><dl class='xr-attrs'><dt><span>long_name :</span></dt><dd>sound speed</dd><dt><span>unit :</span></dt><dd>m/s</dd></dl></div><div class='xr-var-data'><pre>array([[nan, nan, nan, ..., nan, nan, nan],\n",
       "       [nan, nan, nan, ..., nan, nan, nan],\n",
       "       [nan, nan, nan, ..., nan, nan, nan],\n",
       "       ...,\n",
       "       [nan, nan, nan, ..., nan, nan, nan],\n",
       "       [nan, nan, nan, ..., nan, nan, nan],\n",
       "       [nan, nan, nan, ..., nan, nan, nan]])</pre></div></li></ul></div></li><li class='xr-section-item'><input id='section-4236d609-a98f-4096-a45c-44db2d0ca523' class='xr-section-summary-in' type='checkbox' disabled ><label for='section-4236d609-a98f-4096-a45c-44db2d0ca523' class='xr-section-summary'  title='Expand/collapse section'>Attributes: <span>(0)</span></label><div class='xr-section-inline-details'></div><div class='xr-section-details'><dl class='xr-attrs'></dl></div></li></ul></div></div>"
      ],
      "text/plain": [
       "<xarray.Dataset>\n",
       "Dimensions:  (r: 41, z: 1001)\n",
       "Coordinates:\n",
       "  * r        (r) int64 0 1 2 3 4 5 6 7 8 9 10 ... 31 32 33 34 35 36 37 38 39 40\n",
       "  * z        (z) int64 0 1 2 3 4 5 6 7 8 ... 993 994 995 996 997 998 999 1000\n",
       "Data variables:\n",
       "    range    (r) float64 ...\n",
       "    depth    (r) float64 ...\n",
       "    lat      (r) float64 ...\n",
       "    lon      (r) float64 ...\n",
       "    salt     (z, r) float64 ...\n",
       "    temp     (z, r) float64 ...\n",
       "    ss       (z, r) float64 ..."
      ]
     },
     "execution_count": 5,
     "metadata": {},
     "output_type": "execute_result"
    }
   ],
   "source": [
    "ds"
   ]
  },
  {
   "cell_type": "markdown",
   "metadata": {},
   "source": [
    "# Investigate data\n",
    "NESBA info: \n",
    "* Send source signature from TM4 experiment for time series modeling : \\\n",
    "TM4 source 4 second long chirp, bandwidth 775 Hz – 475 Hz.  Source depth:  81 m \\\n",
    "* Send lat, lon, depth coordinates of TM4 and AT: \\\n",
    "TM4:  39° 50.8542'N 70° 54.0876'W;  \\\n",
    "AT:  39° 57.150'N   70° 53.167'W UNKNOWN depth guessing 300 m"
   ]
  },
  {
   "cell_type": "code",
   "execution_count": 6,
   "metadata": {},
   "outputs": [
    {
     "name": "stdout",
     "output_type": "stream",
     "text": [
      "1.0896246913521084 \n",
      " 2.3910733849788386 \n",
      " 11.722506037872984\n"
     ]
    }
   ],
   "source": [
    "tm4 = [sb.degMinSec2decimal(39,50.8542), -sb.degMinSec2decimal(70,54.0876)]\n",
    "at  = [sb.degMinSec2decimal(39,57.1500), -sb.degMinSec2decimal(70,53.1670)]\n",
    "\n",
    "# WARNING: distance DOES NOT indicate direction!!\n",
    "dtm4 = sb.wgs84Distance(ds['lat'].isel(r=0), ds['lon'].isel(r=0),\n",
    "                        tm4[0],              tm4[1]) / 1000.\n",
    "dat  = sb.wgs84Distance(ds['lat'].isel(r=11), ds['lon'].isel(r=11),\n",
    "                        at[0],               at[1])  / 1000.\n",
    "\n",
    "print(dtm4.values, '\\n', dat.values, '\\n',\n",
    "     sb.wgs84Distance(at[0],  at[1],\n",
    "                 tm4[0], tm4[1]) / 1000.)"
   ]
  },
  {
   "cell_type": "code",
   "execution_count": 7,
   "metadata": {},
   "outputs": [
    {
     "data": {
      "image/png": "[encoded data removed]",
      "text/plain": [
       "<Figure size 900x900 with 1 Axes>"
      ]
     },
     "metadata": {
      "needs_background": "light"
     },
     "output_type": "display_data"
    }
   ],
   "source": [
    "plt.figure(figsize=(5,5), dpi=180)\n",
    "ax = plt.axes(projection=ccrs.PlateCarree())\n",
    "ax.add_feature(cartopy.feature.LAND, zorder=100)\n",
    "ax.add_feature(cartopy.feature.COASTLINE, linewidth=0.5,zorder=101)\n",
    "gl=ax.gridlines(crs=ccrs.PlateCarree(), draw_labels = True, alpha=0)\n",
    "gl.bottom_labels = False\n",
    "gl.right_labels = False\n",
    "\n",
    "ax.scatter(x=tm4[1], y=tm4[0], color='magenta', s=10,\n",
    "           transform=ccrs.PlateCarree(), zorder=2)\n",
    "ax.scatter(x=at[1], y=at[0], color='r', s=10,\n",
    "           transform=ccrs.PlateCarree(), zorder=2)\n",
    "ax.scatter(x=ds.lon, y=ds.lat, color='b', s=2,\n",
    "           transform=ccrs.PlateCarree(), zorder=2)\n",
    "ax.scatter(x=dsCTD.lon, y=dsCTD.lat, color='orange',s=3,\n",
    "           transform=ccrs.PlateCarree(), zorder=2)\n",
    "\n",
    "plt.text(-71.4,39.75,'12 points between AT and TM4\\nTM4 is BEHIND first range point',fontsize=10,\\\n",
    "        transform=ccrs.PlateCarree(),zorder=2)\n",
    "\n",
    "ax.set_extent([-71.5, -70.6, 39.5, 40.5])\n",
    "#ax.set_extent([-75.5, -70, 38, 41.75])\n",
    "\n",
    "plt.savefig(filePath+'nesba_at_tm4_data.png')"
   ]
  },
  {
   "cell_type": "markdown",
   "metadata": {},
   "source": [
    "## Assumptions on data\n",
    "\n",
    "we assume the data is on a flat line between the source and receiver\n",
    "\n",
    "we assume the depth of the recevier since it was not disclosed\n",
    "\n",
    "we assume the source is exactly on the first point of range\n",
    "\n",
    "we assume the receiver is exactly on the 12th point of range\n",
    "\n",
    "we throw away any data past the 12th point of range\n",
    "\n",
    "we assign a value of mean sound speed on any point that had NaN as the sound speed value"
   ]
  },
  {
   "cell_type": "code",
   "execution_count": 8,
   "metadata": {},
   "outputs": [
    {
     "data": {
      "image/png": "[encoded data removed]",
      "text/plain": [
       "<Figure size 720x432 with 2 Axes>"
      ]
     },
     "metadata": {
      "needs_background": "light"
     },
     "output_type": "display_data"
    }
   ],
   "source": [
    "plt.figure(figsize=(10,6))\n",
    "ds.ss.plot(yincrease=False)\n",
    "plt.scatter([ds['range'].isel(r=0), ds['range'].isel(r=11)], [81., 300.] , color=['magenta', 'red'])\n",
    "plt.title('Sound Speed [m/s]');"
   ]
  },
  {
   "cell_type": "markdown",
   "metadata": {},
   "source": [
    "set dataset to first 12 ranges only"
   ]
  },
  {
   "cell_type": "code",
   "execution_count": 9,
   "metadata": {},
   "outputs": [
    {
     "data": {
      "image/png": "[encoded data removed]",
      "text/plain": [
       "<Figure size 720x432 with 2 Axes>"
      ]
     },
     "metadata": {
      "needs_background": "light"
     },
     "output_type": "display_data"
    }
   ],
   "source": [
    "ds = ds.isel(r=slice(0,12))\n",
    "plt.figure(figsize=(10,6))\n",
    "ds.ss.plot(yincrease=False)\n",
    "plt.scatter([ds['range'].isel(r=0), ds['range'].isel(r=11)], [81., 300.] , color=['magenta', 'red'])\n",
    "plt.title('Sound Speed [m/s]');"
   ]
  },
  {
   "cell_type": "markdown",
   "metadata": {},
   "source": [
    "# Write BELLHOP input files\n",
    "\n",
    "# BTYFile\n",
    "\n",
    "\n",
    "BELLHOP BTYFile is written as follows: \n",
    "\n",
    "`interpolation type`\\\n",
    "`number of bathymetry points, nBtyPts`\\\n",
    "`range(1)   depth(1)`\\\n",
    "`...`\\\n",
    "`range(nBtyPts)   depth(nBtyPts)`"
   ]
  },
  {
   "cell_type": "code",
   "execution_count": 10,
   "metadata": {},
   "outputs": [],
   "source": [
    "fileBTY = runName + '.bty'\n",
    "TypeBTY = \"'L'\"\n",
    "nPtsBTY = len(ds.r)\n",
    "\n",
    "dataBTY = np.column_stack([ds.range, ds.depth])"
   ]
  },
  {
   "cell_type": "code",
   "execution_count": 11,
   "metadata": {},
   "outputs": [],
   "source": [
    "np.savetxt(filePath+fileBTY, dataBTY, fmt=['%0.1f', '%0.6f'], \n",
    "           header=TypeBTY + '\\n' + str(nPtsBTY), comments='',\n",
    "           delimiter='\\t')"
   ]
  },
  {
   "cell_type": "markdown",
   "metadata": {},
   "source": [
    "# Write SSPFile\n",
    "\n",
    "BELLHOP SSPFile is written as follows: \n",
    "\n",
    "`number of SSP Ranges, SSP%Nr`\\\n",
    "`ranges in km`\\\n",
    "`SSP for each range at z(1)`\\\n",
    "`...`\\\n",
    "`SSP for each range at z(1001)`"
   ]
  },
  {
   "cell_type": "code",
   "execution_count": 12,
   "metadata": {},
   "outputs": [],
   "source": [
    "fileSSP = runName + '.ssp'\n",
    "nPtsSSP = len(ds.r)"
   ]
  },
  {
   "cell_type": "markdown",
   "metadata": {},
   "source": [
    "### SSP nan values\n",
    "\n",
    "there are nan values where the ssp could not be calculated for reasons not yet known by me. \n",
    "\n",
    "It was recommended to extend SSP below the bathymetry as water instead of using a groundfloor sound speed. This is because the SSP interpolation scheme could interpolate a high SSP BEFORE the groundfloor. \n",
    "\n",
    "1) nan values at the bottom of the water column will be replaced with iso temperature, salinity, and varied depth ssp calculated\n",
    "2) ...\n",
    "\n",
    "1) nan values below the bathymetry will be set to the groundfloor sound speed, 1600 m/s. \\\n",
    "2) nan values in the water column are replaced with the mean ssp in the domain. "
   ]
  },
  {
   "cell_type": "code",
   "execution_count": 13,
   "metadata": {},
   "outputs": [],
   "source": [
    "import seawater as sw"
   ]
  },
  {
   "cell_type": "code",
   "execution_count": 14,
   "metadata": {},
   "outputs": [],
   "source": [
    "def extendSSP(ds):\n",
    "    # for each nan point under the non-nan data, calc pressure and ssp \n",
    "\n",
    "    for rr in ds.r:\n",
    "        dsNan = ds.isel(r=rr).where(np.isnan(ds.ss.isel(r=rr)) == True, drop=True )\n",
    "\n",
    "        lenNan = len(dsNan.z)\n",
    "        topBot = [i+1 for i in range(lenNan-1) if dsNan[\"z\"][i+1] - dsNan[\"z\"][0] > 100][0]\n",
    "\n",
    "        salt = np.zeros(lenNan)\n",
    "        temp = np.zeros(lenNan)\n",
    "\n",
    "        salt[:topBot] = ds.salt.isel(r=rr).isel(z=dsNan.z[topBot-1]+1)\n",
    "        salt[topBot:] = ds.salt.isel(r=rr).isel(z=dsNan.z[topBot]-1)\n",
    "\n",
    "        temp[:topBot] = ds.temp.isel(r=rr).isel(z=dsNan.z[topBot-1]+1)\n",
    "        temp[topBot:] = ds.temp.isel(r=rr).isel(z=dsNan.z[topBot]-1)\n",
    "\n",
    "        pressure = sw.eos80.pres(dsNan.z, dsNan.lat)\n",
    "\n",
    "        da = xr.DataArray(sw.eos80.svel(salt, temp, pressure),\n",
    "                      dims=\"z\", \n",
    "                      coords={\"z\": dsNan.z})\n",
    "\n",
    "        ds.ss.loc[dict(r=rr)] = ds.ss.isel(r=rr).fillna(da)"
   ]
  },
  {
   "cell_type": "code",
   "execution_count": 15,
   "metadata": {},
   "outputs": [],
   "source": [
    "extendSSP(ds) # overwrites ds"
   ]
  },
  {
   "cell_type": "code",
   "execution_count": 16,
   "metadata": {},
   "outputs": [
    {
     "data": {
      "image/png": "[encoded data removed]",
      "text/plain": [
       "<Figure size 720x432 with 2 Axes>"
      ]
     },
     "metadata": {
      "needs_background": "light"
     },
     "output_type": "display_data"
    }
   ],
   "source": [
    "plt.figure(figsize=(10,6))\n",
    "ds.ss.plot(yincrease=False)\n",
    "plt.title('Sound Speed [m/s]');\n",
    "plt.show()"
   ]
  },
  {
   "cell_type": "code",
   "execution_count": 17,
   "metadata": {},
   "outputs": [],
   "source": [
    "dataSSP = np.vstack([dataBTY[:,0], ds.ss])"
   ]
  },
  {
   "cell_type": "code",
   "execution_count": 18,
   "metadata": {},
   "outputs": [],
   "source": [
    "np.savetxt(filePath+fileSSP, \n",
    "           dataSSP, fmt='%0.6f', \n",
    "           header=str(nPtsSSP), comments='',\n",
    "           delimiter='\\t')"
   ]
  },
  {
   "cell_type": "markdown",
   "metadata": {},
   "source": [
    "# Write first column of SSP in ENVFile\n",
    "\n",
    "BELLHOP ENVFile requires there be # of depths amount of rows with dummy SSP values to read in. It uses this to dtermine how big the SSPFile will be and will allocate memory for the SSP matrices with this."
   ]
  },
  {
   "cell_type": "code",
   "execution_count": 19,
   "metadata": {},
   "outputs": [],
   "source": [
    "dataENV = np.column_stack([ds.z, ds.ss.isel(r=0)])"
   ]
  },
  {
   "cell_type": "code",
   "execution_count": 20,
   "metadata": {},
   "outputs": [],
   "source": [
    "np.savetxt(filePath+runName+'-extension.env', \n",
    "           dataENV, fmt=['%0.1f', '%0.6f'], \n",
    "           delimiter='\\t',\n",
    "           newline='\\t/\\n')"
   ]
  },
  {
   "cell_type": "markdown",
   "metadata": {},
   "source": [
    "<sub> Written by Ivana Escobar on July 2022"
   ]
  }
 ],
 "metadata": {
  "kernelspec": {
   "display_name": "Python 3",
   "language": "python",
   "name": "python3"
  },
  "language_info": {
   "codemirror_mode": {
    "name": "ipython",
    "version": 3
   },
   "file_extension": ".py",
   "mimetype": "text/x-python",
   "name": "python",
   "nbconvert_exporter": "python",
   "pygments_lexer": "ipython3",
   "version": "3.7.7"
  }
 },
 "nbformat": 4,
 "nbformat_minor": 4
}
